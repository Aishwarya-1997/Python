{
 "cells": [
  {
   "cell_type": "code",
   "execution_count": 1,
   "metadata": {},
   "outputs": [],
   "source": [
    "import string\n",
    "import random"
   ]
  },
  {
   "cell_type": "code",
   "execution_count": 29,
   "metadata": {},
   "outputs": [],
   "source": [
    "class Encryption():\n",
    "    def __init__(self):\n",
    "        #random.seed(seed)\n",
    "        #self.seed = seed\n",
    "        self.encrypted_phrase = ''\n",
    "        self.corrected_letter = list(string.ascii_lowercase)\n",
    "        self.shuffled_letter = random.sample(self.corrected_letter,len(self.corrected_letter))\n",
    "    def encryption(self,message):\n",
    "        output = ''\n",
    "        for i in range(len(message)):\n",
    "            output+=message[i]\n",
    "            output+=random.sample(self.corrected_letter,1)[0]\n",
    "        self.encrypted_phrase = output[::-1]\n",
    "        d = dict(zip(self.corrected_letter,self.shuffled_letter))\n",
    "        d = [d[i] if i in self.corrected_letter else i for i in self.encrypted_phrase]\n",
    "        return \"\".join(d)\n",
    "    def decryption(self,message):\n",
    "        #random.seed(seed)\n",
    "        #shuffled_alphabet = random.sample(self.corrected_letter,len(self.corrected_letter))\n",
    "        d = dict(zip(self.shuffled_letter,self.corrected_letter))\n",
    "        d = [d[i] if i in self.corrected_letter else i for i in message]\n",
    "        d = \"\".join(d)\n",
    "        decrypted_phrase = d[::-1][::2]\n",
    "        print(decrypted_phrase)\n",
    "        "
   ]
  },
  {
   "cell_type": "code",
   "execution_count": 30,
   "metadata": {},
   "outputs": [],
   "source": [
    "x = Encryption()"
   ]
  },
  {
   "cell_type": "code",
   "execution_count": 31,
   "metadata": {},
   "outputs": [
    {
     "data": {
      "text/plain": [
       "'divgkjocdze bcrgqghywk'"
      ]
     },
     "execution_count": 31,
     "metadata": {},
     "output_type": "execute_result"
    }
   ],
   "source": [
    "x.encryption(\"hello world\")"
   ]
  },
  {
   "cell_type": "code",
   "execution_count": 33,
   "metadata": {},
   "outputs": [
    {
     "name": "stdout",
     "output_type": "stream",
     "text": [
      "hello world\n"
     ]
    }
   ],
   "source": [
    "x.decryption(\"divgkjocdze bcrgqghywk\")"
   ]
  },
  {
   "cell_type": "code",
   "execution_count": 34,
   "metadata": {},
   "outputs": [
    {
     "data": {
      "text/plain": [
       "'ktzxfbxpixmTu fozmaIa t!zcfgdgeyiH'"
      ]
     },
     "execution_count": 34,
     "metadata": {},
     "output_type": "execute_result"
    }
   ],
   "source": [
    "x.encryption(\"Hello! Its Tanmay\")"
   ]
  },
  {
   "cell_type": "code",
   "execution_count": 35,
   "metadata": {},
   "outputs": [
    {
     "name": "stdout",
     "output_type": "stream",
     "text": [
      "Hello! Its Tanmay\n"
     ]
    }
   ],
   "source": [
    "x.decryption(\"ktzxfbxpixmTu fozmaIa t!zcfgdgeyiH\")"
   ]
  },
  {
   "cell_type": "code",
   "execution_count": null,
   "metadata": {},
   "outputs": [],
   "source": []
  }
 ],
 "metadata": {
  "kernelspec": {
   "display_name": "Python 3",
   "language": "python",
   "name": "python3"
  },
  "language_info": {
   "codemirror_mode": {
    "name": "ipython",
    "version": 3
   },
   "file_extension": ".py",
   "mimetype": "text/x-python",
   "name": "python",
   "nbconvert_exporter": "python",
   "pygments_lexer": "ipython3",
   "version": "3.7.3"
  }
 },
 "nbformat": 4,
 "nbformat_minor": 2
}
