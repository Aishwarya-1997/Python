{
 "cells": [
  {
   "cell_type": "markdown",
   "metadata": {},
   "source": [
    "CSV FILES"
   ]
  },
  {
   "cell_type": "code",
   "execution_count": 4,
   "metadata": {},
   "outputs": [],
   "source": [
    "import csv"
   ]
  },
  {
   "cell_type": "code",
   "execution_count": 24,
   "metadata": {},
   "outputs": [],
   "source": [
    "data = open('myname.csv')"
   ]
  },
  {
   "cell_type": "code",
   "execution_count": 25,
   "metadata": {},
   "outputs": [],
   "source": [
    "csv_data = csv.reader(data)"
   ]
  },
  {
   "cell_type": "code",
   "execution_count": 26,
   "metadata": {},
   "outputs": [],
   "source": [
    "final = list(csv_data)"
   ]
  },
  {
   "cell_type": "code",
   "execution_count": 30,
   "metadata": {},
   "outputs": [
    {
     "data": {
      "text/plain": [
       "[['Series_reference',\n",
       "  'Period',\n",
       "  'Data_value',\n",
       "  'Suppressed',\n",
       "  'STATUS',\n",
       "  'UNITS',\n",
       "  'Magnitude',\n",
       "  'Subject',\n",
       "  'Group',\n",
       "  'Series_title_1',\n",
       "  'Series_title_2',\n",
       "  'Series_title_3',\n",
       "  'Series_title_4',\n",
       "  'Series_title_5'],\n",
       " ['MFGQ.SFA1CA',\n",
       "  '1992.12',\n",
       "  '2493.37',\n",
       "  '',\n",
       "  'F',\n",
       "  'Dollars',\n",
       "  '6',\n",
       "  'Manufacturing Survey (ANZSIC06) - MFG',\n",
       "  'Industry by variable - Subannual Financial Collection',\n",
       "  'Meat and dairy product manufacturing',\n",
       "  'Sales (operating income)',\n",
       "  'Current prices',\n",
       "  'Unadjusted',\n",
       "  ''],\n",
       " ['MFGQ.SFA1CA',\n",
       "  '1993.03',\n",
       "  '3209.2',\n",
       "  '',\n",
       "  'F',\n",
       "  'Dollars',\n",
       "  '6',\n",
       "  'Manufacturing Survey (ANZSIC06) - MFG',\n",
       "  'Industry by variable - Subannual Financial Collection',\n",
       "  'Meat and dairy product manufacturing',\n",
       "  'Sales (operating income)',\n",
       "  'Current prices',\n",
       "  'Unadjusted',\n",
       "  ''],\n",
       " ['MFGQ.SFA1CA',\n",
       "  '1993.06',\n",
       "  '2780.17',\n",
       "  '',\n",
       "  'F',\n",
       "  'Dollars',\n",
       "  '6',\n",
       "  'Manufacturing Survey (ANZSIC06) - MFG',\n",
       "  'Industry by variable - Subannual Financial Collection',\n",
       "  'Meat and dairy product manufacturing',\n",
       "  'Sales (operating income)',\n",
       "  'Current prices',\n",
       "  'Unadjusted',\n",
       "  '']]"
      ]
     },
     "execution_count": 30,
     "metadata": {},
     "output_type": "execute_result"
    }
   ],
   "source": [
    "final[:4]"
   ]
  },
  {
   "cell_type": "code",
   "execution_count": 32,
   "metadata": {},
   "outputs": [
    {
     "name": "stdout",
     "output_type": "stream",
     "text": [
      "1992.12\n",
      "1993.03\n",
      "1993.06\n",
      "1993.09\n"
     ]
    }
   ],
   "source": [
    "for line in final[1:5]:\n",
    "    print(line[1])"
   ]
  },
  {
   "cell_type": "markdown",
   "metadata": {},
   "source": [
    "CREATING A NEW FILE"
   ]
  },
  {
   "cell_type": "code",
   "execution_count": 33,
   "metadata": {},
   "outputs": [],
   "source": [
    "file_name = open('mycsvfile.csv','w',newline='')"
   ]
  },
  {
   "cell_type": "code",
   "execution_count": 34,
   "metadata": {},
   "outputs": [],
   "source": [
    "csv_write = csv.writer(file_name,delimiter=',')"
   ]
  },
  {
   "cell_type": "code",
   "execution_count": 36,
   "metadata": {},
   "outputs": [
    {
     "data": {
      "text/plain": [
       "26"
      ]
     },
     "execution_count": 36,
     "metadata": {},
     "output_type": "execute_result"
    }
   ],
   "source": [
    "csv_write.writerow(['col1','col2','col3','col4','col5'])"
   ]
  },
  {
   "cell_type": "code",
   "execution_count": 37,
   "metadata": {},
   "outputs": [],
   "source": [
    "csv_write.writerows([[1,2,3,4,5],[6,7,8,9,10]])"
   ]
  },
  {
   "cell_type": "code",
   "execution_count": 38,
   "metadata": {},
   "outputs": [],
   "source": [
    "file_name.close()"
   ]
  },
  {
   "cell_type": "markdown",
   "metadata": {},
   "source": [
    "APPENDING TO AN EXISTING CSV FILE"
   ]
  },
  {
   "cell_type": "code",
   "execution_count": 39,
   "metadata": {},
   "outputs": [],
   "source": [
    "file = open('mycsvfile.csv','a',newline='')"
   ]
  },
  {
   "cell_type": "code",
   "execution_count": 40,
   "metadata": {},
   "outputs": [],
   "source": [
    "csv_writer = csv.writer(file)"
   ]
  },
  {
   "cell_type": "code",
   "execution_count": 41,
   "metadata": {},
   "outputs": [
    {
     "data": {
      "text/plain": [
       "16"
      ]
     },
     "execution_count": 41,
     "metadata": {},
     "output_type": "execute_result"
    }
   ],
   "source": [
    "csv_writer.writerow([11,12,13,14,15])"
   ]
  },
  {
   "cell_type": "code",
   "execution_count": 42,
   "metadata": {},
   "outputs": [],
   "source": [
    "file.close()"
   ]
  },
  {
   "cell_type": "code",
   "execution_count": null,
   "metadata": {},
   "outputs": [],
   "source": []
  }
 ],
 "metadata": {
  "kernelspec": {
   "display_name": "Python 3",
   "language": "python",
   "name": "python3"
  },
  "language_info": {
   "codemirror_mode": {
    "name": "ipython",
    "version": 3
   },
   "file_extension": ".py",
   "mimetype": "text/x-python",
   "name": "python",
   "nbconvert_exporter": "python",
   "pygments_lexer": "ipython3",
   "version": "3.7.3"
  }
 },
 "nbformat": 4,
 "nbformat_minor": 2
}
