{
 "cells": [
  {
   "cell_type": "markdown",
   "metadata": {},
   "source": [
    "pdb - stands for python debugger is used to trace out the variables to check for errors that can happen in statements following it."
   ]
  },
  {
   "cell_type": "code",
   "execution_count": 4,
   "metadata": {},
   "outputs": [
    {
     "name": "stdout",
     "output_type": "stream",
     "text": [
      "8\n",
      "--Return--\n",
      "> <ipython-input-4-182518e4f61f>(13)<module>()->None\n",
      "-> pdb.set_trace()#tracing all values using set_trace method of object pdb\n",
      "(Pdb) x\n",
      "'2'\n",
      "(Pdb) y\n",
      "3\n",
      "(Pdb) z\n",
      "5\n",
      "(Pdb) type(x)\n",
      "<class 'str'>\n",
      "(Pdb) type(y)\n",
      "<class 'int'>\n",
      "(Pdb) continue\n",
      "you tried adding <class 'str'> and <class 'int'>\n"
     ]
    }
   ],
   "source": [
    "import pdb\n",
    "x = \"2\"\n",
    "y = 3\n",
    "z = 5\n",
    "\n",
    "#say a bunch of code here\n",
    "\n",
    "\n",
    "\n",
    "result = y + z\n",
    "print(result)\n",
    "\n",
    "pdb.set_trace()#tracing all values using set_trace method of object pdb\n",
    "\n",
    "try:\n",
    "    result1 = y + x\n",
    "    print(result)\n",
    "except :\n",
    "    print(\"you tried adding {} and {}\".format(type(x),type(y)))\n",
    "    "
   ]
  },
  {
   "cell_type": "markdown",
   "metadata": {},
   "source": [
    ".\n",
    "\n",
    ".\n",
    "\n",
    "another example\n"
   ]
  },
  {
   "cell_type": "code",
   "execution_count": 7,
   "metadata": {},
   "outputs": [
    {
     "name": "stdout",
     "output_type": "stream",
     "text": [
      "Enter The Value : a\n",
      "--Return--\n",
      "> <ipython-input-7-4cb744628747>(7)<module>()->None\n",
      "-> pdb.set_trace()\n",
      "(Pdb) x.side\n",
      "'a'\n",
      "(Pdb) continue\n",
      "You Entered Something Wrong\n"
     ]
    }
   ],
   "source": [
    "class Square():\n",
    "    def __init__(self,side):\n",
    "        self.side = side\n",
    "    def area(self):\n",
    "        return int(self.side)**2\n",
    "x = Square(side=input(\"Enter The Value : \"))\n",
    "pdb.set_trace()\n",
    "try:\n",
    "    print(x.area())\n",
    "except:\n",
    "    print(\"You Entered Something Wrong\")"
   ]
  },
  {
   "cell_type": "code",
   "execution_count": 8,
   "metadata": {},
   "outputs": [
    {
     "name": "stdout",
     "output_type": "stream",
     "text": [
      "Enter The Value : 3\n",
      "--Return--\n",
      "> <ipython-input-8-4cb744628747>(7)<module>()->None\n",
      "-> pdb.set_trace()\n",
      "(Pdb) x\n",
      "<__main__.Square object at 0x000000E02A822F60>\n",
      "(Pdb) x.side\n",
      "'3'\n",
      "(Pdb) continue\n",
      "9\n"
     ]
    }
   ],
   "source": [
    "class Square():\n",
    "    def __init__(self,side):\n",
    "        self.side = side\n",
    "    def area(self):\n",
    "        return int(self.side)**2\n",
    "x = Square(side=input(\"Enter The Value : \"))\n",
    "pdb.set_trace()\n",
    "try:\n",
    "    print(x.area())\n",
    "except:\n",
    "    print(\"You Entered Something Wrong\")"
   ]
  },
  {
   "cell_type": "markdown",
   "metadata": {},
   "source": [
    ".\n",
    "\n",
    ".\n",
    "\n",
    "\n",
    ".\n",
    "\n",
    ".\n",
    "\n",
    "\n",
    "\n",
    "\n",
    "Datetime Library"
   ]
  },
  {
   "cell_type": "code",
   "execution_count": 9,
   "metadata": {},
   "outputs": [],
   "source": [
    "import datetime\n",
    "t = datetime.time(13,15,20)"
   ]
  },
  {
   "cell_type": "code",
   "execution_count": 10,
   "metadata": {},
   "outputs": [
    {
     "data": {
      "text/plain": [
       "13"
      ]
     },
     "execution_count": 10,
     "metadata": {},
     "output_type": "execute_result"
    }
   ],
   "source": [
    "t.hour"
   ]
  },
  {
   "cell_type": "code",
   "execution_count": 11,
   "metadata": {},
   "outputs": [
    {
     "data": {
      "text/plain": [
       "15"
      ]
     },
     "execution_count": 11,
     "metadata": {},
     "output_type": "execute_result"
    }
   ],
   "source": [
    "t.minute"
   ]
  },
  {
   "cell_type": "code",
   "execution_count": 12,
   "metadata": {},
   "outputs": [
    {
     "data": {
      "text/plain": [
       "20"
      ]
     },
     "execution_count": 12,
     "metadata": {},
     "output_type": "execute_result"
    }
   ],
   "source": [
    "\n",
    "t.second"
   ]
  },
  {
   "cell_type": "code",
   "execution_count": 14,
   "metadata": {},
   "outputs": [],
   "source": [
    "dob = datetime.date(1999,8,8)"
   ]
  },
  {
   "cell_type": "code",
   "execution_count": 15,
   "metadata": {},
   "outputs": [
    {
     "data": {
      "text/plain": [
       "1999"
      ]
     },
     "execution_count": 15,
     "metadata": {},
     "output_type": "execute_result"
    }
   ],
   "source": [
    "dob.year"
   ]
  },
  {
   "cell_type": "code",
   "execution_count": 16,
   "metadata": {},
   "outputs": [
    {
     "data": {
      "text/plain": [
       "8"
      ]
     },
     "execution_count": 16,
     "metadata": {},
     "output_type": "execute_result"
    }
   ],
   "source": [
    "dob.month\n"
   ]
  },
  {
   "cell_type": "code",
   "execution_count": 18,
   "metadata": {},
   "outputs": [
    {
     "data": {
      "text/plain": [
       "datetime.date(2019, 9, 10)"
      ]
     },
     "execution_count": 18,
     "metadata": {},
     "output_type": "execute_result"
    }
   ],
   "source": [
    "datetime.date.today()"
   ]
  },
  {
   "cell_type": "code",
   "execution_count": 20,
   "metadata": {},
   "outputs": [
    {
     "data": {
      "text/plain": [
       "datetime.datetime(2019, 9, 10, 11, 12, 12, 885793)"
      ]
     },
     "execution_count": 20,
     "metadata": {},
     "output_type": "execute_result"
    }
   ],
   "source": [
    "datetime.datetime.today()"
   ]
  },
  {
   "cell_type": "markdown",
   "metadata": {},
   "source": [
    "calculating time reuired to execute some lines of code"
   ]
  },
  {
   "cell_type": "code",
   "execution_count": 27,
   "metadata": {},
   "outputs": [
    {
     "name": "stdout",
     "output_type": "stream",
     "text": [
      "Your Name Is Tanmay And You Are Born On 8 August 1999\n"
     ]
    }
   ],
   "source": [
    "t0 = datetime.datetime.now()\n",
    "try:\n",
    "    class Student():\n",
    "        def __init__(self,name):\n",
    "            self.name = name\n",
    "            self.dob = datetime.date(1999,8,8)\n",
    "        def birthday(self):\n",
    "            print(\"Your Name Is {} And You Are Born On {} August {}\".format(self.name,self.dob.day,self.dob.year))\n",
    "    x = Student(\"Tanmay\")\n",
    "    x.birthday()\n",
    "except:\n",
    "    print(\"An Error Has Occured\")\n",
    "t1 = datetime.datetime.now()\n",
    "diff = t1 - t0"
   ]
  },
  {
   "cell_type": "code",
   "execution_count": 33,
   "metadata": {},
   "outputs": [
    {
     "data": {
      "text/plain": [
       "1001"
      ]
     },
     "execution_count": 33,
     "metadata": {},
     "output_type": "execute_result"
    }
   ],
   "source": [
    "diff.microseconds"
   ]
  },
  {
   "cell_type": "code",
   "execution_count": null,
   "metadata": {},
   "outputs": [],
   "source": []
  }
 ],
 "metadata": {
  "kernelspec": {
   "display_name": "Python 3",
   "language": "python",
   "name": "python3"
  },
  "language_info": {
   "codemirror_mode": {
    "name": "ipython",
    "version": 3
   },
   "file_extension": ".py",
   "mimetype": "text/x-python",
   "name": "python",
   "nbconvert_exporter": "python",
   "pygments_lexer": "ipython3",
   "version": "3.7.3"
  }
 },
 "nbformat": 4,
 "nbformat_minor": 2
}
