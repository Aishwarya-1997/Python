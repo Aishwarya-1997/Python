{
 "cells": [
  {
   "cell_type": "markdown",
   "metadata": {},
   "source": [
    "<strong>Ques. Create An Interface TouchScreenLaptop Which Will Have Two Abstract Methods \"Scroll\" And \"Click\".\n",
    "    Define Two Child Class Of Above Interface \"HP\"  AND   \"DELL\" ,Which Will Impliment/Modify Only The Scroll Methods And\n",
    "    Finally Define Child Classes \"HPNotebook\" And \"DellNotebook\" Of Classes \"HP\" And \"DELL\" Respectively, Which   \n",
    "    Will Impliment/Modify Only THe Click Methods.\n",
    "</strong>"
   ]
  },
  {
   "cell_type": "code",
   "execution_count": 34,
   "metadata": {},
   "outputs": [],
   "source": [
    "from abc import abstractmethod, ABC\n",
    "class TouchScreenLaptop(ABC):\n",
    "    \n",
    "    def __init__(self,model,year):\n",
    "        self.model = model\n",
    "        self.year = year\n",
    "        \n",
    "    @abstractmethod\n",
    "    def Scroll(self):\n",
    "        pass\n",
    "    \n",
    "    @abstractmethod\n",
    "    def Click(self):\n",
    "        pass\n",
    "    \n",
    "    \n",
    "class HP(TouchScreenLaptop):\n",
    "    \n",
    "    # Child Class HP\n",
    "    def __init__(self,model,year,manufacturer):\n",
    "        super().__init__(model,year)\n",
    "        self.manufacturer  = manufacturer\n",
    "        \n",
    "    def Scroll(self):\n",
    "        print(\"From Class HP, Invoked Scroll Method From Class \\\"TouchScreenLaptop\\\"\")\n",
    "        \n",
    "    def Click(self):\n",
    "        pass\n",
    "    \n",
    "class DELL(TouchScreenLaptop):\n",
    "    \n",
    "    # Child Class DELL\n",
    "    def __init__(self,model,year,manufacturer):\n",
    "        super().__init__(model,year)\n",
    "        self.manufacturer  = manufacturer\n",
    "        \n",
    "    def Scroll(self):\n",
    "        print(\"From Class DELL, Invoked Scroll Method From Class \\\"TouchScreenLaptop\\\"\")\n",
    "        \n",
    "    def Click(self):\n",
    "        pass\n",
    "    \n",
    "    \n",
    "class HPNotebook(HP):\n",
    "    \n",
    "    #A Child Class Of Class HP\n",
    "    def __init__(self,model,year,manufacturer,version):\n",
    "        HP.__init__(self,model,year,manufacturer)\n",
    "        self.version = version\n",
    "        \n",
    "    def Click(self):\n",
    "        print(\"From Class HPNotebook, Invoked Click Method From Class \\\"TouchScreenLaptop\\\"\")\n",
    "        \n",
    "    def Scroll(self):\n",
    "        HP.Scroll(self)\n",
    "    \n",
    "    \n",
    "class DellNotebook(DELL):\n",
    "    \n",
    "    #A Child Class Of Class DELL\n",
    "    def __init__(self,model,year,manufacturer,version):\n",
    "        DELL.__init__(self,model,year,manufacturer)\n",
    "        self.version = version\n",
    "        \n",
    "    def Click(self):\n",
    "        print(\"From Class DellNotebook ,Invoked Click Method From Class \\\"TouchScreenLaptop\\\"\")\n",
    "        \n",
    "    def Scroll(self):\n",
    "        DELL.Scroll(self)"
   ]
  },
  {
   "cell_type": "code",
   "execution_count": 35,
   "metadata": {},
   "outputs": [],
   "source": [
    "dellNotebook = DellNotebook(\"D90-132\",2018,\"DELL\",\"5th Gen\")"
   ]
  },
  {
   "cell_type": "code",
   "execution_count": 36,
   "metadata": {},
   "outputs": [
    {
     "data": {
      "text/plain": [
       "'DELL'"
      ]
     },
     "execution_count": 36,
     "metadata": {},
     "output_type": "execute_result"
    }
   ],
   "source": [
    "dellNotebook.manufacturer"
   ]
  },
  {
   "cell_type": "code",
   "execution_count": 37,
   "metadata": {},
   "outputs": [
    {
     "data": {
      "text/plain": [
       "'D90-132'"
      ]
     },
     "execution_count": 37,
     "metadata": {},
     "output_type": "execute_result"
    }
   ],
   "source": [
    "dellNotebook.model"
   ]
  },
  {
   "cell_type": "code",
   "execution_count": 38,
   "metadata": {},
   "outputs": [
    {
     "name": "stdout",
     "output_type": "stream",
     "text": [
      "From Class DellNotebook ,Invoked Click Method From Class \"TouchScreenLaptop\"\n"
     ]
    }
   ],
   "source": [
    "dellNotebook.Click()"
   ]
  },
  {
   "cell_type": "code",
   "execution_count": 39,
   "metadata": {},
   "outputs": [
    {
     "name": "stdout",
     "output_type": "stream",
     "text": [
      "From Class DELL, Invoked Scroll Method From Class \"TouchScreenLaptop\"\n"
     ]
    }
   ],
   "source": [
    "dellNotebook.Scroll()"
   ]
  },
  {
   "cell_type": "code",
   "execution_count": 40,
   "metadata": {},
   "outputs": [],
   "source": [
    "hpNotebook = HPNotebook(\"H231-98i\",2017,\"HP\",\"4th Gen\")"
   ]
  },
  {
   "cell_type": "code",
   "execution_count": 41,
   "metadata": {},
   "outputs": [
    {
     "data": {
      "text/plain": [
       "'HP'"
      ]
     },
     "execution_count": 41,
     "metadata": {},
     "output_type": "execute_result"
    }
   ],
   "source": [
    "hpNotebook.manufacturer"
   ]
  },
  {
   "cell_type": "code",
   "execution_count": 42,
   "metadata": {},
   "outputs": [
    {
     "data": {
      "text/plain": [
       "'4th Gen'"
      ]
     },
     "execution_count": 42,
     "metadata": {},
     "output_type": "execute_result"
    }
   ],
   "source": [
    "hpNotebook.version"
   ]
  },
  {
   "cell_type": "code",
   "execution_count": 43,
   "metadata": {},
   "outputs": [
    {
     "name": "stdout",
     "output_type": "stream",
     "text": [
      "From Class HPNotebook, Invoked Click Method From Class \"TouchScreenLaptop\"\n"
     ]
    }
   ],
   "source": [
    "hpNotebook.Click()"
   ]
  },
  {
   "cell_type": "code",
   "execution_count": 44,
   "metadata": {},
   "outputs": [
    {
     "name": "stdout",
     "output_type": "stream",
     "text": [
      "From Class HP, Invoked Scroll Method From Class \"TouchScreenLaptop\"\n"
     ]
    }
   ],
   "source": [
    "hpNotebook.Scroll()"
   ]
  },
  {
   "cell_type": "code",
   "execution_count": null,
   "metadata": {},
   "outputs": [],
   "source": []
  }
 ],
 "metadata": {
  "kernelspec": {
   "display_name": "Python 3",
   "language": "python",
   "name": "python3"
  },
  "language_info": {
   "codemirror_mode": {
    "name": "ipython",
    "version": 3
   },
   "file_extension": ".py",
   "mimetype": "text/x-python",
   "name": "python",
   "nbconvert_exporter": "python",
   "pygments_lexer": "ipython3",
   "version": "3.7.3"
  }
 },
 "nbformat": 4,
 "nbformat_minor": 2
}
