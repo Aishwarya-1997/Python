{
 "cells": [
  {
   "cell_type": "markdown",
   "metadata": {},
   "source": [
    "basic if statements"
   ]
  },
  {
   "cell_type": "code",
   "execution_count": 7,
   "metadata": {},
   "outputs": [
    {
     "name": "stdout",
     "output_type": "stream",
     "text": [
      "TRUE\n"
     ]
    }
   ],
   "source": [
    "if 2>0:\n",
    "    print(\"TRUE\")"
   ]
  },
  {
   "cell_type": "code",
   "execution_count": 8,
   "metadata": {},
   "outputs": [
    {
     "name": "stdout",
     "output_type": "stream",
     "text": [
      "UNEQUAL\n"
     ]
    }
   ],
   "source": [
    "if 1!=5:\n",
    "    print(\"UNEQUAL\")"
   ]
  },
  {
   "cell_type": "code",
   "execution_count": 9,
   "metadata": {},
   "outputs": [
    {
     "name": "stdout",
     "output_type": "stream",
     "text": [
      "false\n"
     ]
    }
   ],
   "source": [
    "cond= 3>6\n",
    "if cond:\n",
    "    print(\"true\")\n",
    "else:\n",
    "    print(\"false\")"
   ]
  },
  {
   "cell_type": "markdown",
   "metadata": {},
   "source": [
    "MAXIMUM OF THREE NUMBERS"
   ]
  },
  {
   "cell_type": "code",
   "execution_count": 10,
   "metadata": {},
   "outputs": [
    {
     "name": "stdout",
     "output_type": "stream",
     "text": [
      "MAXIMUM OF THREE IS 40\n"
     ]
    }
   ],
   "source": [
    "a=40\n",
    "b=9\n",
    "c=14\n",
    "if a>b:\n",
    "    if a>c:\n",
    "        print(\"MAXIMUM OF THREE IS {}\".format(a))\n",
    "    else:\n",
    "        print(\"MAXIMUM OF THREE IS {}\".format(c))\n",
    "elif b>c:\n",
    "    print(\"MAXIMUM OF THREE IS {}\".format(b))\n",
    "else:\n",
    "    print(\"MAXIMUM OF THREE IS {}\".format(c))\n",
    "            "
   ]
  },
  {
   "cell_type": "code",
   "execution_count": 11,
   "metadata": {},
   "outputs": [],
   "source": [
    "code= 24563762\n",
    "access = False"
   ]
  },
  {
   "cell_type": "code",
   "execution_count": 13,
   "metadata": {},
   "outputs": [
    {
     "name": "stdout",
     "output_type": "stream",
     "text": [
      "ACCESS GRANTED\n",
      "HAVE A GOOD DAY\n"
     ]
    }
   ],
   "source": [
    "if code==24563762:\n",
    "    access=True\n",
    "else:\n",
    "    access=False\n",
    "if access:\n",
    "    print(\"ACCESS GRANTED\\nHAVE A GOOD DAY\")"
   ]
  },
  {
   "cell_type": "code",
   "execution_count": null,
   "metadata": {},
   "outputs": [],
   "source": []
  }
 ],
 "metadata": {
  "kernelspec": {
   "display_name": "Python 3",
   "language": "python",
   "name": "python3"
  },
  "language_info": {
   "codemirror_mode": {
    "name": "ipython",
    "version": 3
   },
   "file_extension": ".py",
   "mimetype": "text/x-python",
   "name": "python",
   "nbconvert_exporter": "python",
   "pygments_lexer": "ipython3",
   "version": "3.7.3"
  }
 },
 "nbformat": 4,
 "nbformat_minor": 2
}
