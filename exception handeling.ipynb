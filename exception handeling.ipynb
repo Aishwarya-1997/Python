{
 "cells": [
  {
   "cell_type": "markdown",
   "metadata": {},
   "source": [
    "TRY STATEMENTS"
   ]
  },
  {
   "cell_type": "code",
   "execution_count": 1,
   "metadata": {},
   "outputs": [
    {
     "name": "stdout",
     "output_type": "stream",
     "text": [
      "Enter Any Number : 5\n",
      "You Are Trying To Add A String And A Number\n"
     ]
    }
   ],
   "source": [
    "try :\n",
    "    usr = input(\"Enter Any Number : \")\n",
    "    print (1 + usr)\n",
    "except TypeError:\n",
    "    print(\"You Are Trying To Add A String And A Number\")\n",
    "else:\n",
    "    print(\"none\")"
   ]
  },
  {
   "cell_type": "markdown",
   "metadata": {},
   "source": [
    ".\n",
    "\n",
    ".\n",
    "\n",
    "Using Finally - will execute it always whether error has occured or not"
   ]
  },
  {
   "cell_type": "code",
   "execution_count": 8,
   "metadata": {},
   "outputs": [
    {
     "name": "stdout",
     "output_type": "stream",
     "text": [
      "Enter Radius : 2\n",
      "12.56\n",
      "Area Is Calculated Successfully\n"
     ]
    }
   ],
   "source": [
    "try :\n",
    "    class Circle():\n",
    "        def __init__(self,radius):\n",
    "            self.radius = radius\n",
    "        def area(self):\n",
    "            return 3.14*(self.radius**2)\n",
    "    x = Circle(int(input(\"Enter Radius : \")))\n",
    "    print(x.area())\n",
    "except :\n",
    "    print(\"You Have Entered A String, Try Again With An Interger\")\n",
    "finally : \n",
    "    print(\"Area Is Calculated Successfully\")"
   ]
  },
  {
   "cell_type": "markdown",
   "metadata": {},
   "source": [
    ".\n",
    "\n",
    ".\n",
    "\n",
    "another example "
   ]
  },
  {
   "cell_type": "code",
   "execution_count": 10,
   "metadata": {},
   "outputs": [
    {
     "name": "stdout",
     "output_type": "stream",
     "text": [
      "Enter First Number : 6\n",
      "Enter Second Number : 9\n",
      "Enter Third Number : 2\n",
      "Maximum Of Three Numbers Is 9\n",
      "Everything Worked Correctly\n"
     ]
    }
   ],
   "source": [
    "try:\n",
    "    class Maximum():\n",
    "        def __init__(self,num1,num2,num3):\n",
    "            self.num1 = num1\n",
    "            self.num2 = num2\n",
    "            self.num3 = num3\n",
    "        def max(self):\n",
    "            if self.num1>self.num2:\n",
    "                if self.num1>self.num3:\n",
    "                    print(\"Maximum Of Three Numbers Is {}\".format(self.num1))\n",
    "            elif self.num2 > self.num3:\n",
    "                print(\"Maximum Of Three Numbers Is {}\".format(self.num2))\n",
    "            else:\n",
    "                print(\"Maximum Of Three Numbers Is {}\".format(self.num3))\n",
    "            \n",
    "    x = Maximum(num1=int(input(\"Enter First Number : \")),num2=int(input(\"Enter Second Number : \")),num3=int(input(\"Enter Third Number : \")))\n",
    "    x.max()\n",
    "except:\n",
    "    print(\"It Seems You Have Entered Something Other Than Integers, That Caused An Error\")\n",
    "else:\n",
    "    print(\"Everything Worked Correctly\")"
   ]
  },
  {
   "cell_type": "code",
   "execution_count": null,
   "metadata": {},
   "outputs": [],
   "source": []
  }
 ],
 "metadata": {
  "kernelspec": {
   "display_name": "Python 3",
   "language": "python",
   "name": "python3"
  },
  "language_info": {
   "codemirror_mode": {
    "name": "ipython",
    "version": 3
   },
   "file_extension": ".py",
   "mimetype": "text/x-python",
   "name": "python",
   "nbconvert_exporter": "python",
   "pygments_lexer": "ipython3",
   "version": "3.7.3"
  }
 },
 "nbformat": 4,
 "nbformat_minor": 2
}
