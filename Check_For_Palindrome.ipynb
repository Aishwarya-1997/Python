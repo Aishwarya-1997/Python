{
 "cells": [
  {
   "cell_type": "markdown",
   "metadata": {},
   "source": [
    "<h2>Checking Whether A string Is A Palindrome Or Not</h2>"
   ]
  },
  {
   "cell_type": "code",
   "execution_count": 10,
   "metadata": {},
   "outputs": [],
   "source": [
    "def reverse_str(string):\n",
    "    ''' Objective  : To Reverse A Given String\n",
    "    \n",
    "        Input      : A String\n",
    "    \n",
    "        Output     : Reversed String\n",
    "    '''\n",
    "    '''\n",
    "        Approach   : Using Split() Function\n",
    "    '''\n",
    "    result = ''\n",
    "    li_str = string.split()\n",
    "    for i in range(len(string)-1,-1,-1):\n",
    "        result += string[i]\n",
    "    return result"
   ]
  },
  {
   "cell_type": "code",
   "execution_count": 11,
   "metadata": {},
   "outputs": [
    {
     "name": "stdout",
     "output_type": "stream",
     "text": [
      "Input String Here : ThisIsAsIsihT\n",
      "String Is A Paliondrome\n"
     ]
    }
   ],
   "source": [
    "usr = input('Input String Here : ')\n",
    "rev = reverse_str(usr)\n",
    "if usr == rev :\n",
    "    print('String Is A Paliondrome')\n",
    "else:\n",
    "    print('String Is Not A Paliondrome')"
   ]
  },
  {
   "cell_type": "markdown",
   "metadata": {},
   "source": [
    ".\n",
    ".\n",
    ".\n",
    "\n",
    "\n",
    ".\n",
    ".\n",
    ".\n",
    "\n",
    "\n",
    "\n",
    ".\n",
    ".\n",
    ".\n",
    "<h2> Same Can Be Done Using List Slicing As Follows </h2>"
   ]
  },
  {
   "cell_type": "code",
   "execution_count": 12,
   "metadata": {},
   "outputs": [],
   "source": [
    "def reverse_string(string):\n",
    "    ''' Objective  : To Reverse A Given String\n",
    "    \n",
    "        Input      : A String\n",
    "    \n",
    "        Output     : Reversed String\n",
    "    '''\n",
    "    '''\n",
    "        Approach   : Using List Slicing\n",
    "    '''\n",
    "    return string[::-1]"
   ]
  },
  {
   "cell_type": "code",
   "execution_count": 13,
   "metadata": {},
   "outputs": [
    {
     "name": "stdout",
     "output_type": "stream",
     "text": [
      "Input String Here : NitiN\n",
      "String Is A Paliondrome\n"
     ]
    }
   ],
   "source": [
    "usr = input('Input String Here : ')\n",
    "rev = reverse_string(usr)\n",
    "if usr == rev :\n",
    "    print('String Is A Paliondrome')\n",
    "else:\n",
    "    print('String Is Not A Paliondrome')\n"
   ]
  },
  {
   "cell_type": "code",
   "execution_count": 15,
   "metadata": {},
   "outputs": [
    {
     "name": "stdout",
     "output_type": "stream",
     "text": [
      "Input String Here : YaMaNaMaY\n",
      "String Is A Paliondrome\n"
     ]
    }
   ],
   "source": [
    "usr = input('Input String Here : ')\n",
    "rev = reverse_str(usr)\n",
    "if usr == rev :\n",
    "    print('String Is A Paliondrome')\n",
    "else:\n",
    "    print('String Is Not A Paliondrome')\n"
   ]
  },
  {
   "cell_type": "code",
   "execution_count": 16,
   "metadata": {},
   "outputs": [
    {
     "name": "stdout",
     "output_type": "stream",
     "text": [
      "Input String Here : Tiger\n",
      "String Is Not A Paliondrome\n"
     ]
    }
   ],
   "source": [
    "usr = input('Input String Here : ')\n",
    "rev = reverse_str(usr)\n",
    "if usr == rev :\n",
    "    print('String Is A Paliondrome')\n",
    "else:\n",
    "    print('String Is Not A Paliondrome')\n"
   ]
  },
  {
   "cell_type": "code",
   "execution_count": null,
   "metadata": {},
   "outputs": [],
   "source": []
  }
 ],
 "metadata": {
  "kernelspec": {
   "display_name": "Python 3",
   "language": "python",
   "name": "python3"
  },
  "language_info": {
   "codemirror_mode": {
    "name": "ipython",
    "version": 3
   },
   "file_extension": ".py",
   "mimetype": "text/x-python",
   "name": "python",
   "nbconvert_exporter": "python",
   "pygments_lexer": "ipython3",
   "version": "3.7.3"
  }
 },
 "nbformat": 4,
 "nbformat_minor": 2
}
