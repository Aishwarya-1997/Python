{
 "cells": [
  {
   "cell_type": "code",
   "execution_count": 46,
   "metadata": {},
   "outputs": [],
   "source": [
    "import string\n",
    "alpha = list(string.ascii_lowercase)\n",
    "def encrpyt_func(message,shift):\n",
    "    '''Input - text as a string and a values for shifting\n",
    "       Output - shifted pattern of text after passing through ceaser - cipher\n",
    "    '''\n",
    "    key = alpha\n",
    "    value = key[len(key)-shift:]+key[:len(key)-shift]\n",
    "    dict1 = dict(zip(key,value))\n",
    "    code = [dict1[letter] if letter in alpha else letter for letter in message]\n",
    "    return \"\".join(code)"
   ]
  },
  {
   "cell_type": "code",
   "execution_count": 47,
   "metadata": {},
   "outputs": [
    {
     "data": {
      "text/plain": [
       "'vti iwxh bthhpvt id bpxc htgktg'"
      ]
     },
     "execution_count": 47,
     "metadata": {},
     "output_type": "execute_result"
    }
   ],
   "source": [
    "encrpyt_func(\"get this message to main server\",11)"
   ]
  },
  {
   "cell_type": "code",
   "execution_count": 48,
   "metadata": {},
   "outputs": [],
   "source": [
    "def decrpyt_func(message,shift):\n",
    "    key = alpha[len(alpha)-shift:]+alpha[:len(alpha)-shift]\n",
    "    value = alpha\n",
    "    dict2=dict(zip(key,value))\n",
    "    code = [dict2[letter] if letter in key else letter for letter in message]\n",
    "    return \"\".join(code)"
   ]
  },
  {
   "cell_type": "code",
   "execution_count": 49,
   "metadata": {},
   "outputs": [
    {
     "data": {
      "text/plain": [
       "'get this message to main server'"
      ]
     },
     "execution_count": 49,
     "metadata": {},
     "output_type": "execute_result"
    }
   ],
   "source": [
    "decrpyt_func(\"vti iwxh bthhpvt id bpxc htgktg\",11)"
   ]
  },
  {
   "cell_type": "code",
   "execution_count": 51,
   "metadata": {},
   "outputs": [],
   "source": [
    "def brute_force(message):\n",
    "    for i in range (0,len(alpha)):\n",
    "        print(\"for shift value of {}\".format(i))\n",
    "        print(decrpyt_func(message,i))"
   ]
  },
  {
   "cell_type": "code",
   "execution_count": 52,
   "metadata": {},
   "outputs": [
    {
     "name": "stdout",
     "output_type": "stream",
     "text": [
      "for shift value of 0\n",
      "vti iwxh bthhpvt id bpxc htgktg\n",
      "for shift value of 1\n",
      "wuj jxyi cuiiqwu je cqyd iuhluh\n",
      "for shift value of 2\n",
      "xvk kyzj dvjjrxv kf drze jvimvi\n",
      "for shift value of 3\n",
      "ywl lzak ewkksyw lg esaf kwjnwj\n",
      "for shift value of 4\n",
      "zxm mabl fxlltzx mh ftbg lxkoxk\n",
      "for shift value of 5\n",
      "ayn nbcm gymmuay ni guch mylpyl\n",
      "for shift value of 6\n",
      "bzo ocdn hznnvbz oj hvdi nzmqzm\n",
      "for shift value of 7\n",
      "cap pdeo iaoowca pk iwej oanran\n",
      "for shift value of 8\n",
      "dbq qefp jbppxdb ql jxfk pbosbo\n",
      "for shift value of 9\n",
      "ecr rfgq kcqqyec rm kygl qcptcp\n",
      "for shift value of 10\n",
      "fds sghr ldrrzfd sn lzhm rdqudq\n",
      "for shift value of 11\n",
      "get this message to main server\n",
      "for shift value of 12\n",
      "hfu uijt nfttbhf up nbjo tfswfs\n",
      "for shift value of 13\n",
      "igv vjku oguucig vq ockp ugtxgt\n",
      "for shift value of 14\n",
      "jhw wklv phvvdjh wr pdlq vhuyhu\n",
      "for shift value of 15\n",
      "kix xlmw qiwweki xs qemr wivziv\n",
      "for shift value of 16\n",
      "ljy ymnx rjxxflj yt rfns xjwajw\n",
      "for shift value of 17\n",
      "mkz znoy skyygmk zu sgot ykxbkx\n",
      "for shift value of 18\n",
      "nla aopz tlzzhnl av thpu zlycly\n",
      "for shift value of 19\n",
      "omb bpqa umaaiom bw uiqv amzdmz\n",
      "for shift value of 20\n",
      "pnc cqrb vnbbjpn cx vjrw bnaena\n",
      "for shift value of 21\n",
      "qod drsc wocckqo dy wksx cobfob\n",
      "for shift value of 22\n",
      "rpe estd xpddlrp ez xlty dpcgpc\n",
      "for shift value of 23\n",
      "sqf ftue yqeemsq fa ymuz eqdhqd\n",
      "for shift value of 24\n",
      "trg guvf zrffntr gb znva freire\n",
      "for shift value of 25\n",
      "ush hvwg asggous hc aowb gsfjsf\n"
     ]
    }
   ],
   "source": [
    "brute_force(\"vti iwxh bthhpvt id bpxc htgktg\")"
   ]
  },
  {
   "cell_type": "code",
   "execution_count": null,
   "metadata": {},
   "outputs": [],
   "source": []
  }
 ],
 "metadata": {
  "kernelspec": {
   "display_name": "Python 3",
   "language": "python",
   "name": "python3"
  },
  "language_info": {
   "codemirror_mode": {
    "name": "ipython",
    "version": 3
   },
   "file_extension": ".py",
   "mimetype": "text/x-python",
   "name": "python",
   "nbconvert_exporter": "python",
   "pygments_lexer": "ipython3",
   "version": "3.7.3"
  }
 },
 "nbformat": 4,
 "nbformat_minor": 2
}
