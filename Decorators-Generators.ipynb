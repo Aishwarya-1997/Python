{
 "cells": [
  {
   "cell_type": "markdown",
   "metadata": {},
   "source": [
    "<h2>Decorators : </h2><h3>  Takes Function As An Input Argument And\n",
    "    Returns That Function After Decorating Or Modifying It</h3>"
   ]
  },
  {
   "cell_type": "code",
   "execution_count": 1,
   "metadata": {},
   "outputs": [],
   "source": [
    "def decorFun(fun):\n",
    "    '''\n",
    "       Objective : This Function Takes Input , A Function And Returns A Decorated Version Of It\n",
    "       \n",
    "       Input : A Function\n",
    "       \n",
    "       Return Value : A Function\n",
    "       \n",
    "    '''\n",
    "    def inner():\n",
    "        '''\n",
    "           Objective : Inner Function That Modifies Given Function Fun , Passed As Input Parameter\n",
    "           \n",
    "           Input  :  NOne\n",
    "           \n",
    "           Return : A Function\n",
    "           \n",
    "        '''\n",
    "        result = fun()\n",
    "        return result**2\n",
    "    return inner()"
   ]
  },
  {
   "cell_type": "code",
   "execution_count": 2,
   "metadata": {},
   "outputs": [
    {
     "name": "stdout",
     "output_type": "stream",
     "text": [
      "25\n"
     ]
    }
   ],
   "source": [
    "def numDisplay():\n",
    "    '''\n",
    "       Objective : A Function To DisPLAY A Num\n",
    "       \n",
    "       Input  :  None\n",
    "       \n",
    "       Return : A Number - Numeric Value\n",
    "       \n",
    "    '''\n",
    "    return 5\n",
    "\n",
    "res = decorFun(numDisplay)\n",
    "print(res)"
   ]
  },
  {
   "cell_type": "markdown",
   "metadata": {},
   "source": [
    "<h2>Another Example  :  </h2>"
   ]
  },
  {
   "cell_type": "code",
   "execution_count": 3,
   "metadata": {},
   "outputs": [],
   "source": [
    "def decorateStr(fun):\n",
    "    '''\n",
    "       Objective : This Function Takes Input , A Function And Returns A Decorated Version Of It\n",
    "       \n",
    "       Input : A Function\n",
    "       \n",
    "       Return Value : A Function\n",
    "       \n",
    "    '''\n",
    "    def innerFunc(n):\n",
    "        '''\n",
    "            Objective : Inner Function That Modifies Given Function Fun , Passed As Input Parameter\n",
    "           \n",
    "            Input  :  A String\n",
    "           \n",
    "            Return : A Function\n",
    "           \n",
    "        '''\n",
    "        result = fun(n)\n",
    "        return result + ', How Are You ?'\n",
    "    return innerFunc"
   ]
  },
  {
   "cell_type": "code",
   "execution_count": 4,
   "metadata": {},
   "outputs": [
    {
     "name": "stdout",
     "output_type": "stream",
     "text": [
      "Enter Any String : Tanmay\n",
      "Hello Tanmay, How Are You ?\n"
     ]
    }
   ],
   "source": [
    "name = input('Enter Any String : ')\n",
    "\n",
    "#Decorators Can Also Be Used By Using '@' Symbol As Follows \n",
    "@decorateStr\n",
    "\n",
    "def nameStr(name):\n",
    "    return 'Hello ' + name\n",
    "print(nameStr(name))"
   ]
  },
  {
   "cell_type": "markdown",
   "metadata": {},
   "source": [
    "<h2>Generators : </h2><h3>  These Are Functions That Returns Sequence Of Values Using    '  Yield  ' Statement, That Will Return The Complete Range</h3>"
   ]
  },
  {
   "cell_type": "code",
   "execution_count": 6,
   "metadata": {},
   "outputs": [],
   "source": [
    "def custGenerator(x, y):\n",
    "    '''\n",
    "       Objective : This Function Shows How To Use Generators For Creating Custom Sequences\n",
    "       \n",
    "       Input : x , y - Numeric Values\n",
    "       \n",
    "       Return Value : A Range Of Numbers\n",
    "       \n",
    "    '''\n",
    "    while x <= y:\n",
    "        yield x\n",
    "        x += 1"
   ]
  },
  {
   "cell_type": "code",
   "execution_count": 8,
   "metadata": {},
   "outputs": [
    {
     "name": "stdout",
     "output_type": "stream",
     "text": [
      "[1, 2, 3, 4, 5, 6, 7, 8, 9]\n"
     ]
    }
   ],
   "source": [
    "result = custGenerator(1,9)\n",
    "print(list(result))"
   ]
  },
  {
   "cell_type": "markdown",
   "metadata": {},
   "source": [
    "<h2>Another Example</h2>"
   ]
  },
  {
   "cell_type": "code",
   "execution_count": 9,
   "metadata": {},
   "outputs": [],
   "source": [
    "def randomSeq(n):\n",
    "    '''\n",
    "       Objective : This Function Will Generate A Sequence Of Multiple Of 4\n",
    "       \n",
    "       Input : n - Numeric Value\n",
    "       \n",
    "       Return Value : A Range Of Numbers\n",
    "       \n",
    "    '''\n",
    "    assert n>0 , 'Wrong Input'\n",
    "    maxRange = int(input(\"Enter Value Upto Which You Want Sequence : \"))\n",
    "    while n<= maxRange:\n",
    "        if n%4==0:\n",
    "            yield n\n",
    "            n += 1\n",
    "        else:\n",
    "            n += 1\n",
    "            "
   ]
  },
  {
   "cell_type": "code",
   "execution_count": 10,
   "metadata": {},
   "outputs": [
    {
     "name": "stdout",
     "output_type": "stream",
     "text": [
      "Enter Value Upto Which You Want Sequence : 24\n",
      "[4, 8, 12, 16, 20, 24]\n"
     ]
    }
   ],
   "source": [
    "res = randomSeq(4)\n",
    "print(list(res))"
   ]
  },
  {
   "cell_type": "code",
   "execution_count": 11,
   "metadata": {},
   "outputs": [
    {
     "name": "stdout",
     "output_type": "stream",
     "text": [
      "Enter Value Upto Which You Want Sequence : 100\n",
      "[4, 8, 12, 16, 20, 24, 28, 32, 36, 40, 44, 48, 52, 56, 60, 64, 68, 72, 76, 80, 84, 88, 92, 96, 100]\n"
     ]
    }
   ],
   "source": [
    "res = randomSeq(1)\n",
    "print(list(res))"
   ]
  },
  {
   "cell_type": "code",
   "execution_count": null,
   "metadata": {},
   "outputs": [],
   "source": []
  }
 ],
 "metadata": {
  "kernelspec": {
   "display_name": "Python 3",
   "language": "python",
   "name": "python3"
  },
  "language_info": {
   "codemirror_mode": {
    "name": "ipython",
    "version": 3
   },
   "file_extension": ".py",
   "mimetype": "text/x-python",
   "name": "python",
   "nbconvert_exporter": "python",
   "pygments_lexer": "ipython3",
   "version": "3.7.3"
  }
 },
 "nbformat": 4,
 "nbformat_minor": 2
}
