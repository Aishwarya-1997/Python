{
 "cells": [
  {
   "cell_type": "markdown",
   "metadata": {},
   "source": [
    "<h2>1) Encapsulation :</h2><h3> Hiding Access To Data Directly From Objects , Objects Must Use Methods To Access Data</h3>"
   ]
  },
  {
   "cell_type": "code",
   "execution_count": 1,
   "metadata": {},
   "outputs": [],
   "source": [
    "class Student:\n",
    "    \n",
    "    # A Simple Student Class\n",
    "    def __init__(self,name,age,mobNo):\n",
    "        self.name = name                  #PUBLIC \n",
    "        self.__age = age                  #PRIVATE : Using \"__\"\n",
    "        self.__mobNo = mobNo              #PRIVATE : Using \"__\"\n",
    "        \n",
    "    def disPlay(self):\n",
    "        print(\"Details : \" + self.name + \"\\nAge : \" + str(self.__age) + \"\\nMobile Number : \" + str(self.__mobNo))"
   ]
  },
  {
   "cell_type": "code",
   "execution_count": 2,
   "metadata": {},
   "outputs": [],
   "source": [
    "x = Student(\"Tanmay\",21,7042825054)"
   ]
  },
  {
   "cell_type": "code",
   "execution_count": 4,
   "metadata": {},
   "outputs": [
    {
     "data": {
      "text/plain": [
       "'Tanmay'"
      ]
     },
     "execution_count": 4,
     "metadata": {},
     "output_type": "execute_result"
    }
   ],
   "source": [
    "x.name"
   ]
  },
  {
   "cell_type": "markdown",
   "metadata": {},
   "source": [
    "<strong>We Cannot Directly Access Age And Mobile Number</strong>"
   ]
  },
  {
   "cell_type": "code",
   "execution_count": 5,
   "metadata": {},
   "outputs": [
    {
     "ename": "AttributeError",
     "evalue": "'Student' object has no attribute '__age'",
     "output_type": "error",
     "traceback": [
      "\u001b[0;31m---------------------------------------------------------------------------\u001b[0m",
      "\u001b[0;31mAttributeError\u001b[0m                            Traceback (most recent call last)",
      "\u001b[0;32m<ipython-input-5-e9e93fb1ab5c>\u001b[0m in \u001b[0;36m<module>\u001b[0;34m\u001b[0m\n\u001b[0;32m----> 1\u001b[0;31m \u001b[0mx\u001b[0m\u001b[0;34m.\u001b[0m\u001b[0m__age\u001b[0m\u001b[0;34m\u001b[0m\u001b[0;34m\u001b[0m\u001b[0m\n\u001b[0m",
      "\u001b[0;31mAttributeError\u001b[0m: 'Student' object has no attribute '__age'"
     ]
    }
   ],
   "source": [
    "x.__age"
   ]
  },
  {
   "cell_type": "code",
   "execution_count": 6,
   "metadata": {},
   "outputs": [
    {
     "ename": "AttributeError",
     "evalue": "'Student' object has no attribute '__mobNo'",
     "output_type": "error",
     "traceback": [
      "\u001b[0;31m---------------------------------------------------------------------------\u001b[0m",
      "\u001b[0;31mAttributeError\u001b[0m                            Traceback (most recent call last)",
      "\u001b[0;32m<ipython-input-6-bf46db7319d3>\u001b[0m in \u001b[0;36m<module>\u001b[0;34m\u001b[0m\n\u001b[0;32m----> 1\u001b[0;31m \u001b[0mx\u001b[0m\u001b[0;34m.\u001b[0m\u001b[0m__mobNo\u001b[0m\u001b[0;34m\u001b[0m\u001b[0;34m\u001b[0m\u001b[0m\n\u001b[0m",
      "\u001b[0;31mAttributeError\u001b[0m: 'Student' object has no attribute '__mobNo'"
     ]
    }
   ],
   "source": [
    "x.__mobNo"
   ]
  },
  {
   "cell_type": "markdown",
   "metadata": {},
   "source": [
    "<strong>We Have To Use Methods To Access These Attributes</strong>"
   ]
  },
  {
   "cell_type": "code",
   "execution_count": 7,
   "metadata": {},
   "outputs": [
    {
     "name": "stdout",
     "output_type": "stream",
     "text": [
      "Details : Tanmay\n",
      "Age : 21\n",
      "Mobile Number : 7042825054\n"
     ]
    }
   ],
   "source": [
    "x.disPlay()"
   ]
  },
  {
   "cell_type": "markdown",
   "metadata": {},
   "source": [
    "<strong>Another Way Is To Use Name Mangling :  \" obj.___className____fieldName \"</strong>"
   ]
  },
  {
   "cell_type": "code",
   "execution_count": 8,
   "metadata": {},
   "outputs": [
    {
     "data": {
      "text/plain": [
       "21"
      ]
     },
     "execution_count": 8,
     "metadata": {},
     "output_type": "execute_result"
    }
   ],
   "source": [
    "x._Student__age"
   ]
  },
  {
   "cell_type": "code",
   "execution_count": 9,
   "metadata": {},
   "outputs": [
    {
     "data": {
      "text/plain": [
       "7042825054"
      ]
     },
     "execution_count": 9,
     "metadata": {},
     "output_type": "execute_result"
    }
   ],
   "source": [
    "x._Student__mobNo"
   ]
  },
  {
   "cell_type": "markdown",
   "metadata": {},
   "source": [
    "<h2>2) Inheritance :</h2><h3> Process Of Defining New Objects With The Help Of Existing Objects And Updating Their Functionalities If Required</h3>"
   ]
  },
  {
   "cell_type": "code",
   "execution_count": 10,
   "metadata": {},
   "outputs": [],
   "source": [
    "class BMW:\n",
    "    \n",
    "    # A Simple Class BMW\n",
    "    def __init__(self,make,model,year):\n",
    "        self.make = make\n",
    "        self.model = model\n",
    "        self.year = year\n",
    "        \n",
    "class ThreeSeries(BMW):       #Python's Syntax For Inheritance : class ChildClass(Parent Class):\n",
    "    \n",
    "    # A Child Class Of Class BMW\n",
    "    def __init__(self,cruiseControlEnabled,make,model,year):\n",
    "        BMW.__init__(self,make,model,year)\n",
    "        self.cruiseControlEnabled = cruiseControlEnabled\n",
    "        \n",
    "class FiveSeries(BMW):       #Python's Syntax For Inheritance : class ChildClass(Parent Class):\n",
    "    \n",
    "    # A Child Class Of Class BMW\n",
    "    def __init__(self,parkingAssistEnabled,make,model,year):\n",
    "        BMW.__init__(self,make,model,year)\n",
    "        self.parkingAssistEnabled = parkingAssistEnabled"
   ]
  },
  {
   "cell_type": "code",
   "execution_count": 11,
   "metadata": {},
   "outputs": [],
   "source": [
    "threeSeries = ThreeSeries(True,\"BMW\",\"321i\",2018)"
   ]
  },
  {
   "cell_type": "code",
   "execution_count": 12,
   "metadata": {},
   "outputs": [
    {
     "data": {
      "text/plain": [
       "True"
      ]
     },
     "execution_count": 12,
     "metadata": {},
     "output_type": "execute_result"
    }
   ],
   "source": [
    "threeSeries.cruiseControlEnabled"
   ]
  },
  {
   "cell_type": "code",
   "execution_count": 13,
   "metadata": {},
   "outputs": [
    {
     "data": {
      "text/plain": [
       "'BMW'"
      ]
     },
     "execution_count": 13,
     "metadata": {},
     "output_type": "execute_result"
    }
   ],
   "source": [
    "threeSeries.make"
   ]
  },
  {
   "cell_type": "code",
   "execution_count": 14,
   "metadata": {},
   "outputs": [
    {
     "name": "stdout",
     "output_type": "stream",
     "text": [
      "Model :  321i\n",
      "Year :  2018\n"
     ]
    }
   ],
   "source": [
    "print(\"Model : \",threeSeries.model)\n",
    "print(\"Year : \",threeSeries.year)"
   ]
  },
  {
   "cell_type": "code",
   "execution_count": 15,
   "metadata": {},
   "outputs": [],
   "source": [
    "fiveseries = FiveSeries(False,\"BMW\",\"4F3c\",2019)"
   ]
  },
  {
   "cell_type": "code",
   "execution_count": 16,
   "metadata": {},
   "outputs": [
    {
     "name": "stdout",
     "output_type": "stream",
     "text": [
      "ParkinAssistEnabled :  False\n",
      "Make :  BMW\n",
      "Model :  4F3c\n",
      "Year :  2019\n"
     ]
    }
   ],
   "source": [
    "print(\"ParkinAssistEnabled : \", fiveseries.parkingAssistEnabled)\n",
    "print(\"Make : \",fiveseries.make)\n",
    "print(\"Model : \",fiveseries.model)\n",
    "print(\"Year : \",fiveseries.year)"
   ]
  },
  {
   "cell_type": "markdown",
   "metadata": {},
   "source": [
    "<strong>Inheriting The Methods Of Parent Class</strong>"
   ]
  },
  {
   "cell_type": "code",
   "execution_count": 37,
   "metadata": {},
   "outputs": [],
   "source": [
    "class Person:\n",
    "    \n",
    "    # A Simple Class Person\n",
    "    def __init__(self,name,age,weight):\n",
    "        self.name = name\n",
    "        self.age = age\n",
    "        self.weight = weight\n",
    "        \n",
    "    def status(self):\n",
    "        print(\"Person Is Online\")\n",
    "        \n",
    "class Education(Person):\n",
    "        \n",
    "    # A Child Class Education\n",
    "    def __init__(self,name,age,weight,eduQualification):\n",
    "        Person.__init__(self,name,age,weight)\n",
    "        self.eduQualification = eduQualification\n",
    "            \n",
    "class Hobbies(Person):\n",
    "        \n",
    "    # A Child Class Hobbies\n",
    "    def __init__(self,name,age,weight,hobbies):\n",
    "        Person.__init__(self,name,age,weight)\n",
    "        self.hobbies = hobbies\n",
    "            \n",
    "            \n",
    "''' \n",
    "   We Can Also Invoke The Constructors Of Parent Class Or Its Methods Using \" Super()\"\n",
    "'''\n",
    "class Favfood(Person):\n",
    "    \n",
    "    # A Child Class Favfood\n",
    "    def __init__(self,name,age,weight,favfood):\n",
    "        super().__init__(name,age,weight)  # We Don't Need To Pass Self With Super\n",
    "        self.favfood = favfood\n",
    "        \n",
    "    def time(self):\n",
    "        print(\"Currently Checking Status : \")\n",
    "        super().status()\n",
    "        "
   ]
  },
  {
   "cell_type": "code",
   "execution_count": 28,
   "metadata": {},
   "outputs": [],
   "source": [
    "p1 = Education(\"Tanmay\",21,64.5,\"Currently Persuing MCA\")"
   ]
  },
  {
   "cell_type": "code",
   "execution_count": 29,
   "metadata": {},
   "outputs": [],
   "source": [
    "p2 = Hobbies(\"Tanmay\",21,64.5,[\"PUBG\",\"Football\",\"Music\"])"
   ]
  },
  {
   "cell_type": "code",
   "execution_count": 30,
   "metadata": {},
   "outputs": [
    {
     "data": {
      "text/plain": [
       "'Tanmay'"
      ]
     },
     "execution_count": 30,
     "metadata": {},
     "output_type": "execute_result"
    }
   ],
   "source": [
    "p1.name"
   ]
  },
  {
   "cell_type": "code",
   "execution_count": 31,
   "metadata": {},
   "outputs": [
    {
     "data": {
      "text/plain": [
       "21"
      ]
     },
     "execution_count": 31,
     "metadata": {},
     "output_type": "execute_result"
    }
   ],
   "source": [
    "p1.age"
   ]
  },
  {
   "cell_type": "code",
   "execution_count": 32,
   "metadata": {},
   "outputs": [
    {
     "name": "stdout",
     "output_type": "stream",
     "text": [
      "Person Is Online\n"
     ]
    }
   ],
   "source": [
    "p1.status()"
   ]
  },
  {
   "cell_type": "code",
   "execution_count": 33,
   "metadata": {},
   "outputs": [
    {
     "data": {
      "text/plain": [
       "'Currently Persuing MCA'"
      ]
     },
     "execution_count": 33,
     "metadata": {},
     "output_type": "execute_result"
    }
   ],
   "source": [
    "p1.eduQualification"
   ]
  },
  {
   "cell_type": "code",
   "execution_count": 34,
   "metadata": {},
   "outputs": [
    {
     "data": {
      "text/plain": [
       "['PUBG', 'Football', 'Music']"
      ]
     },
     "execution_count": 34,
     "metadata": {},
     "output_type": "execute_result"
    }
   ],
   "source": [
    "p2.hobbies"
   ]
  },
  {
   "cell_type": "code",
   "execution_count": 35,
   "metadata": {},
   "outputs": [
    {
     "name": "stdout",
     "output_type": "stream",
     "text": [
      "Person Is Online\n"
     ]
    }
   ],
   "source": [
    "p2.status()"
   ]
  },
  {
   "cell_type": "code",
   "execution_count": 38,
   "metadata": {},
   "outputs": [],
   "source": [
    "p3 = Favfood(\"Tanmay\",21,64.5,[\"Pizza\",\"Burger\"])"
   ]
  },
  {
   "cell_type": "code",
   "execution_count": 39,
   "metadata": {},
   "outputs": [
    {
     "data": {
      "text/plain": [
       "'Tanmay'"
      ]
     },
     "execution_count": 39,
     "metadata": {},
     "output_type": "execute_result"
    }
   ],
   "source": [
    "p3.name"
   ]
  },
  {
   "cell_type": "code",
   "execution_count": 40,
   "metadata": {},
   "outputs": [
    {
     "name": "stdout",
     "output_type": "stream",
     "text": [
      "Currently Checking Status : \n",
      "Person Is Online\n"
     ]
    }
   ],
   "source": [
    "p3.time()"
   ]
  },
  {
   "cell_type": "markdown",
   "metadata": {},
   "source": [
    "<h2>3) Polymorphism :</h2><h3> Process Of Obtaining Different Behaviour Based On Data Or Objects That Methods Are Using</h3>"
   ]
  },
  {
   "cell_type": "code",
   "execution_count": 41,
   "metadata": {},
   "outputs": [],
   "source": [
    "class Duck:\n",
    "    \n",
    "    # A Simple Class Duck\n",
    "    def talk(self):\n",
    "        print(\"Quack Quack !\")\n",
    "        \n",
    "class Human:\n",
    "    \n",
    "    # A Simple Class Human\n",
    "    def talk(self):\n",
    "        print(\"Hello !\")\n",
    "        \n",
    "def objTalk(obj):\n",
    "    obj.talk()"
   ]
  },
  {
   "cell_type": "code",
   "execution_count": 42,
   "metadata": {},
   "outputs": [],
   "source": [
    "d = Duck()"
   ]
  },
  {
   "cell_type": "code",
   "execution_count": 43,
   "metadata": {},
   "outputs": [
    {
     "name": "stdout",
     "output_type": "stream",
     "text": [
      "Quack Quack !\n"
     ]
    }
   ],
   "source": [
    "objTalk(d)"
   ]
  },
  {
   "cell_type": "code",
   "execution_count": 44,
   "metadata": {},
   "outputs": [],
   "source": [
    "h = Human()"
   ]
  },
  {
   "cell_type": "code",
   "execution_count": 45,
   "metadata": {},
   "outputs": [
    {
     "name": "stdout",
     "output_type": "stream",
     "text": [
      "Hello !\n"
     ]
    }
   ],
   "source": [
    "objTalk(h)"
   ]
  },
  {
   "cell_type": "markdown",
   "metadata": {},
   "source": [
    "<strong>Dependency Injection</strong>"
   ]
  },
  {
   "cell_type": "code",
   "execution_count": 46,
   "metadata": {},
   "outputs": [],
   "source": [
    "class Flight:\n",
    "    \n",
    "    # A Simple Class Flight\n",
    "    def __init__(self,engine):\n",
    "        self.engine = engine\n",
    "        \n",
    "    def startEngine(self):\n",
    "        self.engine.start()\n",
    "        \n",
    "class AirbusEngine:\n",
    "    \n",
    "    # A Simple Class AirbusEngine\n",
    "    def start(self):\n",
    "        print(\"Airbus Engine Started \")\n",
    "        \n",
    "class BoingEngine:\n",
    "    \n",
    "    # A Simple Class BoingEngine\n",
    "    def start(self):\n",
    "        print(\"Boing Engine Started \")"
   ]
  },
  {
   "cell_type": "code",
   "execution_count": 47,
   "metadata": {},
   "outputs": [],
   "source": [
    "ae = AirbusEngine()"
   ]
  },
  {
   "cell_type": "code",
   "execution_count": 48,
   "metadata": {},
   "outputs": [
    {
     "name": "stdout",
     "output_type": "stream",
     "text": [
      "Airbus Engine Started \n"
     ]
    }
   ],
   "source": [
    "f = Flight(ae)\n",
    "f.startEngine()"
   ]
  },
  {
   "cell_type": "code",
   "execution_count": 49,
   "metadata": {},
   "outputs": [],
   "source": [
    "be = BoingEngine()"
   ]
  },
  {
   "cell_type": "code",
   "execution_count": 50,
   "metadata": {},
   "outputs": [
    {
     "name": "stdout",
     "output_type": "stream",
     "text": [
      "Boing Engine Started \n"
     ]
    }
   ],
   "source": [
    "g = Flight(be)\n",
    "g.startEngine()"
   ]
  },
  {
   "cell_type": "markdown",
   "metadata": {},
   "source": [
    "<h2>4) Abstraction :</h2><h3> Refers To Only Showing The Essential Features Of The Object</h3>"
   ]
  },
  {
   "cell_type": "code",
   "execution_count": 55,
   "metadata": {},
   "outputs": [],
   "source": [
    "from abc import abstractmethod,ABC\n",
    "class BMW(ABC):\n",
    "    \n",
    "    # A Simple Class BMW\n",
    "    def __init__(self,make,model,year):\n",
    "        self.make = make\n",
    "        self.model = model\n",
    "        self.year = year\n",
    "        \n",
    "    @abstractmethod\n",
    "    def drive(self):\n",
    "        pass\n",
    "    \n",
    "class ThreeSeries(BMW):       #Python's Syntax For Inheritance : class ChildClass(Parent Class):\n",
    "    \n",
    "    # A Child Class Of Class BMW\n",
    "    def __init__(self,cruiseControlEnabled,make,model,year):\n",
    "        BMW.__init__(self,make,model,year)\n",
    "        self.cruiseControlEnabled = cruiseControlEnabled\n",
    "        \n",
    "    def drive(self):\n",
    "        print(\" Three Series \")\n",
    "    \n",
    "        \n",
    "class FiveSeries(BMW):       #Python's Syntax For Inheritance : class ChildClass(Parent Class):\n",
    "    \n",
    "    # A Child Class Of Class BMW\n",
    "    def __init__(self,parkingAssistEnabled,make,model,year):\n",
    "        BMW.__init__(self,make,model,year)\n",
    "        self.parkingAssistEnabled = parkingAssistEnabled\n",
    "        \n",
    "    def drive(self):\n",
    "        print(\" Five Series \")"
   ]
  },
  {
   "cell_type": "markdown",
   "metadata": {},
   "source": [
    "<strong>Trying To Create An Object Without Child Classes Having That Abstract Method</strong>"
   ]
  },
  {
   "cell_type": "code",
   "execution_count": 54,
   "metadata": {},
   "outputs": [
    {
     "ename": "TypeError",
     "evalue": "Can't instantiate abstract class ThreeSeries with abstract methods drive",
     "output_type": "error",
     "traceback": [
      "\u001b[0;31m---------------------------------------------------------------------------\u001b[0m",
      "\u001b[0;31mTypeError\u001b[0m                                 Traceback (most recent call last)",
      "\u001b[0;32m<ipython-input-54-7d8a1321a013>\u001b[0m in \u001b[0;36m<module>\u001b[0;34m\u001b[0m\n\u001b[0;32m----> 1\u001b[0;31m \u001b[0mthreeSeries\u001b[0m \u001b[0;34m=\u001b[0m \u001b[0mThreeSeries\u001b[0m\u001b[0;34m(\u001b[0m\u001b[0;32mTrue\u001b[0m\u001b[0;34m,\u001b[0m\u001b[0;34m\"BMW\"\u001b[0m\u001b[0;34m,\u001b[0m\u001b[0;34m\"321i\"\u001b[0m\u001b[0;34m,\u001b[0m\u001b[0;36m2018\u001b[0m\u001b[0;34m)\u001b[0m\u001b[0;34m\u001b[0m\u001b[0;34m\u001b[0m\u001b[0m\n\u001b[0m",
      "\u001b[0;31mTypeError\u001b[0m: Can't instantiate abstract class ThreeSeries with abstract methods drive"
     ]
    }
   ],
   "source": [
    "threeSeries = ThreeSeries(True,\"BMW\",\"321i\",2018)"
   ]
  },
  {
   "cell_type": "markdown",
   "metadata": {},
   "source": [
    "<strong>Every Child Class Should Include That Abstract Method</strong>"
   ]
  },
  {
   "cell_type": "code",
   "execution_count": 56,
   "metadata": {},
   "outputs": [],
   "source": [
    "threeSeries = ThreeSeries(True,\"BMW\",\"321i\",2018)"
   ]
  },
  {
   "cell_type": "code",
   "execution_count": 57,
   "metadata": {},
   "outputs": [
    {
     "name": "stdout",
     "output_type": "stream",
     "text": [
      " Three Series \n"
     ]
    }
   ],
   "source": [
    "threeSeries.drive()"
   ]
  },
  {
   "cell_type": "code",
   "execution_count": 58,
   "metadata": {},
   "outputs": [],
   "source": [
    "fiveseries = FiveSeries(False,\"BMW\",\"4F3c\",2019)"
   ]
  },
  {
   "cell_type": "code",
   "execution_count": 59,
   "metadata": {},
   "outputs": [
    {
     "name": "stdout",
     "output_type": "stream",
     "text": [
      " Five Series \n"
     ]
    }
   ],
   "source": [
    "fiveseries.drive()"
   ]
  },
  {
   "cell_type": "markdown",
   "metadata": {},
   "source": [
    "<h3>Interface :  A Class With All Methods As Abstract </h3>"
   ]
  },
  {
   "cell_type": "code",
   "execution_count": 62,
   "metadata": {},
   "outputs": [],
   "source": [
    "from abc import abstractmethod,ABC"
   ]
  },
  {
   "cell_type": "code",
   "execution_count": 65,
   "metadata": {},
   "outputs": [],
   "source": [
    "class Car(ABC): \n",
    "    \n",
    "    # A Simple Class Car\n",
    "    def __init__(self,manufacturer,model,year):\n",
    "        self.manufacturer = manufacturer\n",
    "        self.model = model\n",
    "        self.year = year\n",
    "        \n",
    "    @abstractmethod\n",
    "    def start(self):\n",
    "        pass\n",
    "    \n",
    "    @abstractmethod\n",
    "    def stop(self):\n",
    "        pass\n",
    "    \n",
    "    @abstractmethod\n",
    "    def drive(self):\n",
    "        pass\n",
    "    \n",
    "    \n",
    "# Since All Methods Are Abstract, Class Car Is An Interface\n",
    "class Three_Series(Car):\n",
    "    \n",
    "    # A Child Class Three_Series\n",
    "    def __init__(self,manufacturer,model,year,cruiseEnabled):\n",
    "        super().__init__(manufacturer,model,year)\n",
    "        self.cruiseEnabled = cruiseEnabled\n",
    "        \n",
    "    def drive(self):\n",
    "        print(\"Three Series\")\n",
    "        \n",
    "    def start(self):\n",
    "        super().start()\n",
    "        print(\"Three Series Invoked Start Method Of Class Car\")\n",
    "    \n",
    "    def stop(self):\n",
    "        super().stop()\n",
    "        print(\"Three Series Invoked Stop Method Of Class Car\")\n",
    "        \n",
    "class Five_Series(Car):\n",
    "    \n",
    "    # A Child Class Five_Series\n",
    "    def __init__(self,manufacturer,model,year,parkAssistEnabled):\n",
    "        super().__init__(manufacturer,model,year)\n",
    "        self.parkAssistEnabled = parkAssistEnabled\n",
    "        \n",
    "    def drive(self):\n",
    "        print(\"Five Series\")\n",
    "        \n",
    "    def start(self):\n",
    "        super().start()\n",
    "        print(\"Five Series Invoked Start Method Of Class Car\")\n",
    "        \n",
    "    def stop(self):\n",
    "        super().stop()\n",
    "        print(\"Five Series Invoked Stop Method Of Class Car\")"
   ]
  },
  {
   "cell_type": "markdown",
   "metadata": {},
   "source": [
    "<strong>Trying To Create An Object Without Child Classes Having Abstract Methods Start And Stop</strong>"
   ]
  },
  {
   "cell_type": "code",
   "execution_count": 64,
   "metadata": {},
   "outputs": [
    {
     "ename": "TypeError",
     "evalue": "Can't instantiate abstract class Three_Series with abstract methods start, stop",
     "output_type": "error",
     "traceback": [
      "\u001b[0;31m---------------------------------------------------------------------------\u001b[0m",
      "\u001b[0;31mTypeError\u001b[0m                                 Traceback (most recent call last)",
      "\u001b[0;32m<ipython-input-64-1a882c7934e7>\u001b[0m in \u001b[0;36m<module>\u001b[0;34m\u001b[0m\n\u001b[0;32m----> 1\u001b[0;31m \u001b[0mthree\u001b[0m \u001b[0;34m=\u001b[0m \u001b[0mThree_Series\u001b[0m\u001b[0;34m(\u001b[0m\u001b[0;34m\"BMW\"\u001b[0m\u001b[0;34m,\u001b[0m\u001b[0;34m\"321i\"\u001b[0m\u001b[0;34m,\u001b[0m\u001b[0;36m2018\u001b[0m\u001b[0;34m,\u001b[0m\u001b[0;32mTrue\u001b[0m\u001b[0;34m)\u001b[0m\u001b[0;34m\u001b[0m\u001b[0;34m\u001b[0m\u001b[0m\n\u001b[0m",
      "\u001b[0;31mTypeError\u001b[0m: Can't instantiate abstract class Three_Series with abstract methods start, stop"
     ]
    }
   ],
   "source": [
    "three = Three_Series(\"BMW\",\"321i\",2018,True)"
   ]
  },
  {
   "cell_type": "markdown",
   "metadata": {},
   "source": [
    "<strong>Every Child Class Should Include Abstract Methods Start And Stop</strong>"
   ]
  },
  {
   "cell_type": "code",
   "execution_count": 66,
   "metadata": {},
   "outputs": [],
   "source": [
    "three = Three_Series(\"BMW\",\"321i\",2018,True)"
   ]
  },
  {
   "cell_type": "code",
   "execution_count": 67,
   "metadata": {},
   "outputs": [
    {
     "data": {
      "text/plain": [
       "'BMW'"
      ]
     },
     "execution_count": 67,
     "metadata": {},
     "output_type": "execute_result"
    }
   ],
   "source": [
    "three.manufacturer"
   ]
  },
  {
   "cell_type": "code",
   "execution_count": 68,
   "metadata": {},
   "outputs": [
    {
     "name": "stdout",
     "output_type": "stream",
     "text": [
      "Three Series\n"
     ]
    }
   ],
   "source": [
    "three.drive()"
   ]
  },
  {
   "cell_type": "code",
   "execution_count": 69,
   "metadata": {},
   "outputs": [
    {
     "name": "stdout",
     "output_type": "stream",
     "text": [
      "Three Series Invoked Start Method Of Class Car\n"
     ]
    }
   ],
   "source": [
    "three.start()"
   ]
  },
  {
   "cell_type": "code",
   "execution_count": 70,
   "metadata": {},
   "outputs": [
    {
     "name": "stdout",
     "output_type": "stream",
     "text": [
      "Three Series Invoked Stop Method Of Class Car\n"
     ]
    }
   ],
   "source": [
    "three.stop()"
   ]
  },
  {
   "cell_type": "code",
   "execution_count": 71,
   "metadata": {},
   "outputs": [],
   "source": [
    "five = Five_Series(\"Ferrari\",\"F298li\",2019,True)"
   ]
  },
  {
   "cell_type": "code",
   "execution_count": 72,
   "metadata": {},
   "outputs": [
    {
     "name": "stdout",
     "output_type": "stream",
     "text": [
      "Five Series Invoked Start Method Of Class Car\n"
     ]
    }
   ],
   "source": [
    "five.start()"
   ]
  },
  {
   "cell_type": "code",
   "execution_count": 73,
   "metadata": {},
   "outputs": [
    {
     "name": "stdout",
     "output_type": "stream",
     "text": [
      "Five Series\n"
     ]
    }
   ],
   "source": [
    "five.drive()"
   ]
  },
  {
   "cell_type": "code",
   "execution_count": 74,
   "metadata": {},
   "outputs": [
    {
     "name": "stdout",
     "output_type": "stream",
     "text": [
      "Five Series Invoked Stop Method Of Class Car\n"
     ]
    }
   ],
   "source": [
    "five.stop()"
   ]
  },
  {
   "cell_type": "code",
   "execution_count": null,
   "metadata": {},
   "outputs": [],
   "source": []
  }
 ],
 "metadata": {
  "kernelspec": {
   "display_name": "Python 3",
   "language": "python",
   "name": "python3"
  },
  "language_info": {
   "codemirror_mode": {
    "name": "ipython",
    "version": 3
   },
   "file_extension": ".py",
   "mimetype": "text/x-python",
   "name": "python",
   "nbconvert_exporter": "python",
   "pygments_lexer": "ipython3",
   "version": "3.7.3"
  }
 },
 "nbformat": 4,
 "nbformat_minor": 2
}
