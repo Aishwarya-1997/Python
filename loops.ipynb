{
 "cells": [
  {
   "cell_type": "markdown",
   "metadata": {},
   "source": [
    "WHILE LOOPS"
   ]
  },
  {
   "cell_type": "code",
   "execution_count": 9,
   "metadata": {},
   "outputs": [
    {
     "name": "stdout",
     "output_type": "stream",
     "text": [
      "i is 0\n",
      "i is 1\n",
      "i is 2\n",
      "i is 3\n",
      "i is 4\n",
      "i is 5\n"
     ]
    }
   ],
   "source": [
    "i=0\n",
    "while i<=5:\n",
    "    print(\"i is %d\"%(i))\n",
    "    i+=1"
   ]
  },
  {
   "cell_type": "code",
   "execution_count": 12,
   "metadata": {},
   "outputs": [],
   "source": [
    "a=[1,2,3,4,5,6,7,7,8,9,9,0]\n",
    "b=[]\n",
    "i=0\n",
    "while i<len(a):\n",
    "    if a[i] not in b:\n",
    "        b.append(a[i])\n",
    "    i+=1"
   ]
  },
  {
   "cell_type": "code",
   "execution_count": 13,
   "metadata": {},
   "outputs": [
    {
     "data": {
      "text/plain": [
       "[1, 2, 3, 4, 5, 6, 7, 8, 9, 0]"
      ]
     },
     "execution_count": 13,
     "metadata": {},
     "output_type": "execute_result"
    }
   ],
   "source": [
    "b"
   ]
  },
  {
   "cell_type": "markdown",
   "metadata": {},
   "source": [
    "TO FIND ELEMENTS COMMON TO LISTS"
   ]
  },
  {
   "cell_type": "code",
   "execution_count": 5,
   "metadata": {},
   "outputs": [
    {
     "data": {
      "text/plain": [
       "[1, 2, 3, 4, 56, 67, 353]"
      ]
     },
     "execution_count": 5,
     "metadata": {},
     "output_type": "execute_result"
    }
   ],
   "source": [
    "a=[1,1,2,3,4,5,6,3,22,1,1,3,24,34,56,67,78,4534,353]\n",
    "b=[1,2,3,4,56,67,7,8,45,80,57,345,123,353]\n",
    "c=[]\n",
    "i=0\n",
    "while i<len(a):\n",
    "    if a[i] in b:\n",
    "        if a[i] not in c:\n",
    "            c.append(a[i])\n",
    "    i+=1\n",
    "c"
   ]
  },
  {
   "cell_type": "code",
   "execution_count": 2,
   "metadata": {},
   "outputs": [
    {
     "name": "stdout",
     "output_type": "stream",
     "text": [
      "Enter Password123\n",
      "Enter Password1235\n",
      "Enter Password1234\n",
      "WELCOME USER\n"
     ]
    }
   ],
   "source": [
    "password = 0\n",
    "while password!=1234:\n",
    "    password=int(input(\"enter password\".title()))\n",
    "print(\"WELCOME USER\")\n"
   ]
  },
  {
   "cell_type": "markdown",
   "metadata": {},
   "source": [
    "FOR LOOPS"
   ]
  },
  {
   "cell_type": "code",
   "execution_count": 7,
   "metadata": {},
   "outputs": [
    {
     "data": {
      "text/plain": [
       "21"
      ]
     },
     "execution_count": 7,
     "metadata": {},
     "output_type": "execute_result"
    }
   ],
   "source": [
    "list1=[1,2,3,4,5,6]\n",
    "sum=0\n",
    "for elem in list1:\n",
    "    sum+=elem\n",
    "sum"
   ]
  },
  {
   "cell_type": "code",
   "execution_count": 11,
   "metadata": {},
   "outputs": [],
   "source": [
    "mydictio={}\n",
    "for i in range(1,6):\n",
    "    mydictio[i]=i*i"
   ]
  },
  {
   "cell_type": "code",
   "execution_count": 12,
   "metadata": {},
   "outputs": [
    {
     "data": {
      "text/plain": [
       "{1: 1, 2: 4, 3: 9, 4: 16, 5: 25}"
      ]
     },
     "execution_count": 12,
     "metadata": {},
     "output_type": "execute_result"
    }
   ],
   "source": [
    "mydictio"
   ]
  },
  {
   "cell_type": "code",
   "execution_count": 13,
   "metadata": {},
   "outputs": [],
   "source": [
    "myname=\"THIS IS TANMAY\".title()"
   ]
  },
  {
   "cell_type": "code",
   "execution_count": 14,
   "metadata": {},
   "outputs": [
    {
     "name": "stdout",
     "output_type": "stream",
     "text": [
      "This Is Tanmay"
     ]
    }
   ],
   "source": [
    "for char in myname:\n",
    "    print(char,end=\"\")"
   ]
  },
  {
   "cell_type": "code",
   "execution_count": 15,
   "metadata": {},
   "outputs": [],
   "source": [
    "tuple1 = 1,2,3,5,6,7,8,81,2,22,224,23,4"
   ]
  },
  {
   "cell_type": "code",
   "execution_count": 16,
   "metadata": {},
   "outputs": [
    {
     "name": "stdout",
     "output_type": "stream",
     "text": [
      "1*1 = 1\n",
      "2*2 = 4\n",
      "3*3 = 9\n",
      "5*5 = 25\n",
      "6*6 = 36\n",
      "7*7 = 49\n",
      "8*8 = 64\n",
      "81*81 = 6561\n",
      "2*2 = 4\n",
      "22*22 = 484\n",
      "224*224 = 50176\n",
      "23*23 = 529\n",
      "4*4 = 16\n"
     ]
    }
   ],
   "source": [
    "for elem in tuple1:\n",
    "    print(\"{}*{} = {}\".format(elem,elem,elem*elem))"
   ]
  },
  {
   "cell_type": "code",
   "execution_count": 17,
   "metadata": {},
   "outputs": [],
   "source": [
    "dict2={1: 1, 2: 4, 3: 9, 4: 16, 5: 25}"
   ]
  },
  {
   "cell_type": "code",
   "execution_count": 20,
   "metadata": {},
   "outputs": [
    {
     "name": "stdout",
     "output_type": "stream",
     "text": [
      "Key = 1,Value = 1\n",
      "Key = 2,Value = 4\n",
      "Key = 3,Value = 9\n",
      "Key = 4,Value = 16\n",
      "Key = 5,Value = 25\n"
     ]
    }
   ],
   "source": [
    "for key,value in dict2.items():\n",
    "    print(\"Key = {}\".format(key),end=\",\")\n",
    "    print(\"Value = {}\".format(value))"
   ]
  },
  {
   "cell_type": "code",
   "execution_count": 21,
   "metadata": {},
   "outputs": [
    {
     "name": "stdout",
     "output_type": "stream",
     "text": [
      "(1, 1)\n",
      "(2, 4)\n",
      "(3, 9)\n",
      "(4, 16)\n",
      "(5, 25)\n"
     ]
    }
   ],
   "source": [
    "for items in dict2.items():\n",
    "    print(items)"
   ]
  },
  {
   "cell_type": "code",
   "execution_count": 23,
   "metadata": {},
   "outputs": [
    {
     "name": "stdout",
     "output_type": "stream",
     "text": [
      "(1, 2) -> 1\n",
      "(1, 2) -> 2\n",
      "(3, 4) -> 3\n",
      "(3, 4) -> 4\n",
      "(5, 6) -> 5\n",
      "(5, 6) -> 6\n",
      "(7, 8, 9) -> 7\n",
      "(7, 8, 9) -> 8\n",
      "(7, 8, 9) -> 9\n"
     ]
    }
   ],
   "source": [
    "list_tuple=[(1,2),(3,4),(5,6),(7,8,9)]\n",
    "for item in list_tuple:\n",
    "    for i in item:\n",
    "        print(item,end=\" -> \")\n",
    "        print(i)\n",
    "    "
   ]
  },
  {
   "cell_type": "markdown",
   "metadata": {},
   "source": [
    "GETTING NUMBERS DIVISBILE BY 2"
   ]
  },
  {
   "cell_type": "code",
   "execution_count": 25,
   "metadata": {},
   "outputs": [],
   "source": [
    "a=[1,2,3,4,5,6,7,8,9,10,12,14,16,18,19,20]\n",
    "b=set()"
   ]
  },
  {
   "cell_type": "code",
   "execution_count": 26,
   "metadata": {},
   "outputs": [],
   "source": [
    "for elem in a:\n",
    "    if elem%2!=0:\n",
    "        continue\n",
    "    b.add(elem)\n",
    "    "
   ]
  },
  {
   "cell_type": "code",
   "execution_count": 27,
   "metadata": {},
   "outputs": [
    {
     "data": {
      "text/plain": [
       "{2, 4, 6, 8, 10, 12, 14, 16, 18, 20}"
      ]
     },
     "execution_count": 27,
     "metadata": {},
     "output_type": "execute_result"
    }
   ],
   "source": [
    "b"
   ]
  },
  {
   "cell_type": "code",
   "execution_count": null,
   "metadata": {},
   "outputs": [],
   "source": []
  }
 ],
 "metadata": {
  "kernelspec": {
   "display_name": "Python 3",
   "language": "python",
   "name": "python3"
  },
  "language_info": {
   "codemirror_mode": {
    "name": "ipython",
    "version": 3
   },
   "file_extension": ".py",
   "mimetype": "text/x-python",
   "name": "python",
   "nbconvert_exporter": "python",
   "pygments_lexer": "ipython3",
   "version": "3.7.3"
  }
 },
 "nbformat": 4,
 "nbformat_minor": 2
}
