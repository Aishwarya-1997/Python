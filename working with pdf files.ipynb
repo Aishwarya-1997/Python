{
 "cells": [
  {
   "cell_type": "code",
   "execution_count": 1,
   "metadata": {},
   "outputs": [],
   "source": [
    "import PyPDF2"
   ]
  },
  {
   "cell_type": "code",
   "execution_count": 3,
   "metadata": {},
   "outputs": [],
   "source": [
    "file = open('business-plan-template.pdf','rb')"
   ]
  },
  {
   "cell_type": "code",
   "execution_count": 4,
   "metadata": {},
   "outputs": [],
   "source": [
    "file_reader = PyPDF2.PdfFileReader(file)"
   ]
  },
  {
   "cell_type": "code",
   "execution_count": 5,
   "metadata": {},
   "outputs": [
    {
     "data": {
      "text/plain": [
       "22"
      ]
     },
     "execution_count": 5,
     "metadata": {},
     "output_type": "execute_result"
    }
   ],
   "source": [
    "file_reader.numPages"
   ]
  },
  {
   "cell_type": "markdown",
   "metadata": {},
   "source": [
    "GRABBING A PARTICULAR PAGE"
   ]
  },
  {
   "cell_type": "code",
   "execution_count": 6,
   "metadata": {},
   "outputs": [],
   "source": [
    "page_1 = file_reader.getPage(0)"
   ]
  },
  {
   "cell_type": "code",
   "execution_count": 9,
   "metadata": {},
   "outputs": [],
   "source": [
    "actual_text = page_1.extractText()"
   ]
  },
  {
   "cell_type": "code",
   "execution_count": 12,
   "metadata": {},
   "outputs": [
    {
     "name": "stdout",
     "output_type": "stream",
     "text": [
      "This template is a simplified business plan outline. It™s a good way to get started, but as you know, you can™t just type in your details, print it, and turn it in to the bank. Every business is unique, and your business plan should reflect that. LivePlan can help. With LivePlan, you can easily create a unique business plan,\n",
      " with all the financial tables\n",
      " and graphs\n",
      " to go with it. You™ll also be able to: View \n",
      "over 500 complete sample bu\n",
      "siness plans\n",
      "Save time with linked financial tables (the formulas are built in, so \n",
      "you don™t\n",
      "have to do the calculations!\n",
      ")Benefit from \n",
      "tons of help\n",
      ", advice, and resources\n",
      "Collaborate\n",
      " with a partner or a team\n",
      "Work on your plan from anywhere\n",
      " and on any comp\n",
      "uter\n",
      "Customize every aspect\n",
      " so it™s right for your business\n",
      "Cl\n",
      "ick here and receive 50% off your first month of Live\n",
      "Plan!\n",
      " \n"
     ]
    }
   ],
   "source": [
    "print(actual_text)"
   ]
  },
  {
   "cell_type": "code",
   "execution_count": 13,
   "metadata": {},
   "outputs": [],
   "source": [
    "file.close()"
   ]
  },
  {
   "cell_type": "markdown",
   "metadata": {},
   "source": [
    "COPYING PAGES TO ANOTHER PDF"
   ]
  },
  {
   "cell_type": "code",
   "execution_count": 24,
   "metadata": {},
   "outputs": [],
   "source": [
    "f = open('business-plan-template.pdf','rb')"
   ]
  },
  {
   "cell_type": "code",
   "execution_count": 25,
   "metadata": {},
   "outputs": [],
   "source": [
    "pdf_reader = PyPDF2.PdfFileReader(f)"
   ]
  },
  {
   "cell_type": "code",
   "execution_count": 26,
   "metadata": {},
   "outputs": [],
   "source": [
    "first_page = pdf_reader.getPage(0)"
   ]
  },
  {
   "cell_type": "code",
   "execution_count": 27,
   "metadata": {},
   "outputs": [],
   "source": [
    "pdf_writer = PyPDF2.PdfFileWriter()"
   ]
  },
  {
   "cell_type": "code",
   "execution_count": 28,
   "metadata": {},
   "outputs": [],
   "source": [
    "pdf_writer.addPage(first_page)"
   ]
  },
  {
   "cell_type": "code",
   "execution_count": 29,
   "metadata": {},
   "outputs": [],
   "source": [
    "pdf_output = open('soem_new_pdf.pdf','wb')"
   ]
  },
  {
   "cell_type": "code",
   "execution_count": 31,
   "metadata": {},
   "outputs": [],
   "source": [
    "pdf_writer.write(pdf_output)"
   ]
  },
  {
   "cell_type": "code",
   "execution_count": 32,
   "metadata": {},
   "outputs": [],
   "source": [
    "f.close()\n",
    "pdf_output.close()"
   ]
  },
  {
   "cell_type": "markdown",
   "metadata": {},
   "source": [
    ".\n",
    "\n",
    "\n",
    ".\n",
    "\n",
    "\n",
    "\n",
    ".\n",
    "\n",
    "\n",
    "\n",
    ".\n",
    "\n",
    "\n",
    "\n",
    "\n",
    ".\n",
    "\n",
    "\n",
    "\n",
    "\n",
    "GRABBING ALL INFORMATION ON SOME NUMBER OF PAGES"
   ]
  },
  {
   "cell_type": "code",
   "execution_count": 33,
   "metadata": {},
   "outputs": [],
   "source": [
    "f = open('business-plan-template.pdf','rb')"
   ]
  },
  {
   "cell_type": "code",
   "execution_count": 34,
   "metadata": {},
   "outputs": [],
   "source": [
    "pdf_reader = PyPDF2.PdfFileReader(f)"
   ]
  },
  {
   "cell_type": "code",
   "execution_count": 35,
   "metadata": {},
   "outputs": [],
   "source": [
    "page_text = []\n",
    "for n in range(pdf_reader.numPages-18):\n",
    "    page = pdf_reader.getPage(n)\n",
    "    page_text.append(page.extractText())\n",
    "    "
   ]
  },
  {
   "cell_type": "code",
   "execution_count": 38,
   "metadata": {},
   "outputs": [
    {
     "name": "stdout",
     "output_type": "stream",
     "text": [
      "This template is a simplified business plan outline. It™s a good way to get started, but as you know, you can™t just type in your details, print it, and turn it in to the bank. Every business is unique, and your business plan should reflect that. LivePlan can help. With LivePlan, you can easily create a unique business plan,\n",
      " with all the financial tables\n",
      " and graphs\n",
      " to go with it. You™ll also be able to: View \n",
      "over 500 complete sample bu\n",
      "siness plans\n",
      "Save time with linked financial tables (the formulas are built in, so \n",
      "you don™t\n",
      "have to do the calculations!\n",
      ")Benefit from \n",
      "tons of help\n",
      ", advice, and resources\n",
      "Collaborate\n",
      " with a partner or a team\n",
      "Work on your plan from anywhere\n",
      " and on any comp\n",
      "uter\n",
      "Customize every aspect\n",
      " so it™s right for your business\n",
      "Cl\n",
      "ick here and receive 50% off your first month of Live\n",
      "Plan!\n",
      " \n"
     ]
    }
   ],
   "source": [
    "print(page_text[0])"
   ]
  },
  {
   "cell_type": "code",
   "execution_count": null,
   "metadata": {},
   "outputs": [],
   "source": []
  }
 ],
 "metadata": {
  "kernelspec": {
   "display_name": "Python 3",
   "language": "python",
   "name": "python3"
  },
  "language_info": {
   "codemirror_mode": {
    "name": "ipython",
    "version": 3
   },
   "file_extension": ".py",
   "mimetype": "text/x-python",
   "name": "python",
   "nbconvert_exporter": "python",
   "pygments_lexer": "ipython3",
   "version": "3.7.3"
  }
 },
 "nbformat": 4,
 "nbformat_minor": 2
}
