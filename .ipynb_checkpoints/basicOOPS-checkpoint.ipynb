{
 "cells": [
  {
   "cell_type": "markdown",
   "metadata": {},
   "source": [
    "<h2>Concept Of Classes : Setter Methods And Getter Methods</h2>"
   ]
  },
  {
   "cell_type": "code",
   "execution_count": 14,
   "metadata": {},
   "outputs": [],
   "source": [
    "class Student:\n",
    "    # A Simple Class Student \n",
    "    \n",
    "    def setName(self,name):\n",
    "        #To Set The Name Of The Student\n",
    "        self.name = name\n",
    "    \n",
    "    def setRoll(self,rollno):\n",
    "        #To Set The Roll No Of THe Student\n",
    "        self.rollno = rollno\n",
    "        \n",
    "    def setPercentMarks(self,percentMarks):\n",
    "        #TO Set The Percentage Of Marks\n",
    "        self.percentMarks = percentMarks\n",
    "    \n",
    "    def getName(self):\n",
    "        #To Get The Name Of The Student\n",
    "        return self.name\n",
    "    \n",
    "    def getRoll(self):\n",
    "        #To Get The Roll No Of THe Student\n",
    "        return self.rollno\n",
    "        \n",
    "    def getPercentMarks(self):\n",
    "        #TO Get The Percentage Of Marks\n",
    "        return self.percentMarks\n",
    "    \n",
    "    def disPlay(self):\n",
    "        print(\"Details :  \" + \"\\nName : \" + self.getName() + \"\\nRoll NO. : \" + str(self.getRoll()) + \"\\nPercentage : \" + str(self.getPercentMarks()))\n",
    "        "
   ]
  },
  {
   "cell_type": "code",
   "execution_count": 15,
   "metadata": {},
   "outputs": [],
   "source": [
    "s1 = Student()"
   ]
  },
  {
   "cell_type": "code",
   "execution_count": 20,
   "metadata": {},
   "outputs": [],
   "source": [
    "s1.setName('Tanmay')\n",
    "s1.setRoll(44)\n",
    "s1.setPercentMarks(85)"
   ]
  },
  {
   "cell_type": "code",
   "execution_count": 21,
   "metadata": {},
   "outputs": [
    {
     "data": {
      "text/plain": [
       "'Tanmay'"
      ]
     },
     "execution_count": 21,
     "metadata": {},
     "output_type": "execute_result"
    }
   ],
   "source": [
    "s1.getName()"
   ]
  },
  {
   "cell_type": "code",
   "execution_count": 22,
   "metadata": {},
   "outputs": [
    {
     "data": {
      "text/plain": [
       "85"
      ]
     },
     "execution_count": 22,
     "metadata": {},
     "output_type": "execute_result"
    }
   ],
   "source": [
    "s1.getPercentMarks()"
   ]
  },
  {
   "cell_type": "code",
   "execution_count": 23,
   "metadata": {},
   "outputs": [
    {
     "name": "stdout",
     "output_type": "stream",
     "text": [
      "Details :  \n",
      "Name : Tanmay\n",
      "Roll NO. : 44\n",
      "Percentage : 85\n"
     ]
    }
   ],
   "source": [
    "s1.disPlay()"
   ]
  },
  {
   "cell_type": "markdown",
   "metadata": {},
   "source": [
    "<h2>Static Method : These Methods Doesn't Require Self Keyword And Can Be Accessed Using Class Name </h2>"
   ]
  },
  {
   "cell_type": "code",
   "execution_count": 48,
   "metadata": {},
   "outputs": [],
   "source": [
    "class Rectangle:\n",
    "    \n",
    "    # A S imple Class Rectangle\n",
    "    numOfObjects = 0\n",
    "    \n",
    "    def __init__(self):\n",
    "        Rectangle.numOfObjects += 1\n",
    "        \n",
    "    @staticmethod\n",
    "    def dispumOfObjects():    # This Method Can Now Be Called Using Class Name\n",
    "        print(\"Number Of Objects Crreated : \",Rectangle.numOfObjects)\n",
    "        \n",
    "        "
   ]
  },
  {
   "cell_type": "code",
   "execution_count": 49,
   "metadata": {},
   "outputs": [],
   "source": [
    "x1 = Rectangle()\n",
    "x2 = Rectangle()"
   ]
  },
  {
   "cell_type": "code",
   "execution_count": 51,
   "metadata": {},
   "outputs": [
    {
     "name": "stdout",
     "output_type": "stream",
     "text": [
      "Number Of Objects Crreated :  2\n"
     ]
    }
   ],
   "source": [
    "Rectangle.dispumOfObjects()"
   ]
  },
  {
   "cell_type": "code",
   "execution_count": 52,
   "metadata": {},
   "outputs": [],
   "source": [
    "x3 = Rectangle()"
   ]
  },
  {
   "cell_type": "code",
   "execution_count": 53,
   "metadata": {},
   "outputs": [
    {
     "name": "stdout",
     "output_type": "stream",
     "text": [
      "Number Of Objects Crreated :  3\n"
     ]
    }
   ],
   "source": [
    "Rectangle.dispumOfObjects()"
   ]
  },
  {
   "cell_type": "markdown",
   "metadata": {},
   "source": [
    "<h2>Classes Within Classes</h2>"
   ]
  },
  {
   "cell_type": "code",
   "execution_count": 55,
   "metadata": {},
   "outputs": [],
   "source": [
    "class Car:\n",
    "    \n",
    "    #A Class Car That Will Have A Class Engine Within It\n",
    "    def __init__(self,make,year):\n",
    "        self.make = make\n",
    "        self.year = year\n",
    "        \n",
    "    class Engine:\n",
    "        \n",
    "        # Inner Class Engine \n",
    "        def __init__(self,engineNumber):\n",
    "            self.engineNumber = engineNumber\n",
    "        \n",
    "        @staticmethod\n",
    "        def start():\n",
    "            print(\"Engine Started Successfully\")\n",
    "            "
   ]
  },
  {
   "cell_type": "code",
   "execution_count": 56,
   "metadata": {},
   "outputs": [],
   "source": [
    "A = Car(\"Ferrari\",2018)"
   ]
  },
  {
   "cell_type": "code",
   "execution_count": 57,
   "metadata": {},
   "outputs": [],
   "source": [
    "B = A.Engine(254727)"
   ]
  },
  {
   "cell_type": "code",
   "execution_count": 58,
   "metadata": {},
   "outputs": [
    {
     "name": "stdout",
     "output_type": "stream",
     "text": [
      "Engine Started Successfully\n"
     ]
    }
   ],
   "source": [
    "B.start()"
   ]
  },
  {
   "cell_type": "markdown",
   "metadata": {},
   "source": [
    "<h2>Another Example</h2>"
   ]
  },
  {
   "cell_type": "code",
   "execution_count": 60,
   "metadata": {},
   "outputs": [],
   "source": [
    "class School:\n",
    "    \n",
    "    # A Simple Class School\n",
    "    numOfObj = 0\n",
    "    \n",
    "    def __init__(self,schlName):\n",
    "        self.schlName = schlName\n",
    "        School.numOfObj += 1\n",
    "    \n",
    "    @staticmethod\n",
    "    def numObj():\n",
    "        print(\"Number Of Objects Created : \", School.numOfObj)\n",
    "        \n",
    "    class Schoolstudent:\n",
    "        \n",
    "        # Inner Class Schoolstudent\n",
    "        def __init__(self,name,rollno):\n",
    "            self.name = name\n",
    "            self.rollno = rollno\n",
    "            \n",
    "        def studentInfo(self):\n",
    "            print(\"Name : \",self.name,\"\\nRoll No. : \",self.rollno)"
   ]
  },
  {
   "cell_type": "code",
   "execution_count": 61,
   "metadata": {},
   "outputs": [],
   "source": [
    "student1 = School(\"Sumermal Jain Public School\")"
   ]
  },
  {
   "cell_type": "code",
   "execution_count": 62,
   "metadata": {},
   "outputs": [],
   "source": [
    "student2 = School(\"Jain Public School\")"
   ]
  },
  {
   "cell_type": "code",
   "execution_count": 63,
   "metadata": {},
   "outputs": [
    {
     "name": "stdout",
     "output_type": "stream",
     "text": [
      "Number Of Objects Created :  2\n"
     ]
    }
   ],
   "source": [
    "School.numObj()"
   ]
  },
  {
   "cell_type": "code",
   "execution_count": 64,
   "metadata": {},
   "outputs": [],
   "source": [
    "dataStudent1 = student1.Schoolstudent(\"Tanmay\",44)"
   ]
  },
  {
   "cell_type": "code",
   "execution_count": 65,
   "metadata": {},
   "outputs": [
    {
     "name": "stdout",
     "output_type": "stream",
     "text": [
      "Name :  Tanmay \n",
      "Roll No. :  44\n"
     ]
    }
   ],
   "source": [
    "dataStudent1.studentInfo()"
   ]
  },
  {
   "cell_type": "code",
   "execution_count": 66,
   "metadata": {},
   "outputs": [],
   "source": [
    "datastudent2 = student2.Schoolstudent(\"Sunny\",43)"
   ]
  },
  {
   "cell_type": "code",
   "execution_count": 67,
   "metadata": {},
   "outputs": [
    {
     "name": "stdout",
     "output_type": "stream",
     "text": [
      "Name :  Sunny \n",
      "Roll No. :  43\n"
     ]
    }
   ],
   "source": [
    "datastudent2.studentInfo()"
   ]
  },
  {
   "cell_type": "markdown",
   "metadata": {},
   "source": [
    "# Inheritance"
   ]
  },
  {
   "cell_type": "code",
   "execution_count": 4,
   "metadata": {},
   "outputs": [],
   "source": [
    "class Animal:\n",
    "    def __init__(self, name, sound):\n",
    "        self.name = name\n",
    "        self.sound = sound\n",
    "\n",
    "    def printAnimal(self):\n",
    "        print(\"Name:\",self.name,\"Sound:\",self.sound)\n",
    "    \n",
    "class Dog(Animal):\n",
    "    def __init__(self, name, sound, breed):\n",
    "        super().__init__(name, sound)\n",
    "        self.breed = breed\n",
    "\n",
    "    def dogIntro(self):\n",
    "        print(\"Dog Name:\",self.name,\"Sound:\",self.sound,\"Breed:\",self.breed)"
   ]
  },
  {
   "cell_type": "code",
   "execution_count": 5,
   "metadata": {},
   "outputs": [
    {
     "name": "stdout",
     "output_type": "stream",
     "text": [
      "Name: Scooby Sound: Woof\n"
     ]
    }
   ],
   "source": [
    "dog = Dog(\"Scooby\", \"Woof\", \"Labrador\")\n",
    "dog.printAnimal()"
   ]
  },
  {
   "cell_type": "code",
   "execution_count": 6,
   "metadata": {},
   "outputs": [
    {
     "name": "stdout",
     "output_type": "stream",
     "text": [
      "Dog Name: Scooby Sound: Woof Breed: Labrador\n"
     ]
    }
   ],
   "source": [
    "dog.dogIntro()"
   ]
  },
  {
   "cell_type": "code",
   "execution_count": null,
   "metadata": {},
   "outputs": [],
   "source": []
  }
 ],
 "metadata": {
  "kernelspec": {
   "display_name": "Python 3",
   "language": "python",
   "name": "python3"
  },
  "language_info": {
   "codemirror_mode": {
    "name": "ipython",
    "version": 3
   },
   "file_extension": ".py",
   "mimetype": "text/x-python",
   "name": "python",
   "nbconvert_exporter": "python",
   "pygments_lexer": "ipython3",
   "version": "3.7.6"
  }
 },
 "nbformat": 4,
 "nbformat_minor": 2
}
