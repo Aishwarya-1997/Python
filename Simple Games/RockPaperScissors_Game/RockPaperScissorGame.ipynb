{
 "cells": [
  {
   "cell_type": "code",
   "execution_count": 2,
   "metadata": {},
   "outputs": [
    {
     "name": "stdout",
     "output_type": "stream",
     "text": [
      "Enter Player Name : Tanmay\n",
      "Welcome Tanmay\n",
      "\n",
      "Tanmay, Whats Your Choice Rock, Paper Or Scissors :   Scissors\n",
      "I Choose :  rock\n",
      "I Won, Better Luck Next Time\n",
      "\n",
      "Wanna Play Again : yes\n",
      "Enter Player Name : Tanmay\n",
      "Welcome Tanmay\n",
      "\n",
      "Tanmay, Whats Your Choice Rock, Paper Or Scissors :   Paper\n",
      "I Choose :  rock\n",
      "Congratulations, You Won Tanmay\n",
      "\n",
      "Wanna Play Again : no\n"
     ]
    }
   ],
   "source": [
    "import random\n",
    "while 1:    \n",
    "    usr1 = input(\"ENTER PLAYER NAME : \".title()) \n",
    "    print(\"Welcome {}\\n\".format(usr1))\n",
    "    usr1_input = input(\"{}, Whats Your Choice Rock, Paper Or Scissors :   \".format(usr1))\n",
    "    num = random.randint(1,3)\n",
    "    if num == 1:\n",
    "        comp_choice = 'rock'\n",
    "    elif num == 2:\n",
    "        comp_choice = 'paper'\n",
    "    else:\n",
    "        comp_choice = 'scissors'\n",
    "    print('I Choose :  {}'.format(comp_choice))\n",
    "    if usr1_input[0] == 'r' or usr1_input[0] == 'R':\n",
    "        if comp_choice[0] == 'p':\n",
    "            print(\"I Won, Better Luck Next Time\")\n",
    "        else:\n",
    "            print(\"Congratulations, You Won {}\".format(usr1))\n",
    "    elif usr1_input[0] == 'p' or usr1_input[0] == 'P':\n",
    "        if comp_choice[0] == 's':\n",
    "            print(\"I Won, Better Luck Next Time\")\n",
    "        else:\n",
    "            print(\"Congratulations, You Won {}\".format(usr1))\n",
    "    elif usr1_input[0] == 's' or usr1_input[0] == 'S':\n",
    "        if comp_choice[0] == 'r':\n",
    "            print(\"I Won, Better Luck Next Time\")\n",
    "        else:\n",
    "            print(\"Congratulations, You Won {}\".format(usr1))\n",
    "    choice = input('\\nWanna Play Again : ')\n",
    "    if choice == 'exit' or choice == 'no':\n",
    "        break"
   ]
  },
  {
   "cell_type": "code",
   "execution_count": null,
   "metadata": {},
   "outputs": [],
   "source": []
  }
 ],
 "metadata": {
  "kernelspec": {
   "display_name": "Python 3",
   "language": "python",
   "name": "python3"
  },
  "language_info": {
   "codemirror_mode": {
    "name": "ipython",
    "version": 3
   },
   "file_extension": ".py",
   "mimetype": "text/x-python",
   "name": "python",
   "nbconvert_exporter": "python",
   "pygments_lexer": "ipython3",
   "version": "3.7.3"
  }
 },
 "nbformat": 4,
 "nbformat_minor": 2
}
