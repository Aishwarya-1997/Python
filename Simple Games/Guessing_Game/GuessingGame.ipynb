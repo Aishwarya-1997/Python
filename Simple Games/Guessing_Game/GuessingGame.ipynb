{
 "cells": [
  {
   "cell_type": "code",
   "execution_count": 3,
   "metadata": {},
   "outputs": [
    {
     "name": "stdout",
     "output_type": "stream",
     "text": [
      "Enter Start Value For Defining Range : 1\n",
      "Enter End Value For Defining Range : 20\n",
      "Random Number Generated, Lets See How Fast You Can Guess The Number\n",
      "\n",
      "Enter Guess Value : 16\n",
      "Guess Value Too Low\n",
      "\n",
      "Enter Guess Value : 19\n",
      "Guess Value Too Low\n",
      "\n",
      "Enter Guess Value : 20\n",
      "Thats A Correct Guess\n",
      "You Took 3 Guesses\n"
     ]
    }
   ],
   "source": [
    "start = int(input('ENTER START VALUE for defining RANGE : '.title()))\n",
    "end = int(input('enter end value for defining range : '.title()))\n",
    "import random\n",
    "i=0\n",
    "num = random.randint(start,end)\n",
    "print('random number generated, lets see how fast you can guess the number'.title())\n",
    "while 1:\n",
    "    usr = int(input('\\nENTER GUESS VALUE : '.title()))\n",
    "    if usr > end :\n",
    "        print('guess value exceeds the given range'.title())\n",
    "        continue\n",
    "    if num > usr :\n",
    "        print(\"guess value too low\".title())\n",
    "        i+=1\n",
    "    elif num < usr :\n",
    "        print('guess value too high'.title())\n",
    "        i+=1\n",
    "    elif num==usr:\n",
    "        print('thats a correct guess'.title())\n",
    "        print('You Took {} Guesses'.format(i+1))\n",
    "        break\n"
   ]
  },
  {
   "cell_type": "code",
   "execution_count": null,
   "metadata": {},
   "outputs": [],
   "source": []
  }
 ],
 "metadata": {
  "kernelspec": {
   "display_name": "Python 3",
   "language": "python",
   "name": "python3"
  },
  "language_info": {
   "codemirror_mode": {
    "name": "ipython",
    "version": 3
   },
   "file_extension": ".py",
   "mimetype": "text/x-python",
   "name": "python",
   "nbconvert_exporter": "python",
   "pygments_lexer": "ipython3",
   "version": "3.7.3"
  }
 },
 "nbformat": 4,
 "nbformat_minor": 2
}
